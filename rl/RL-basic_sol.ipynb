{
 "cells": [
  {
   "cell_type": "markdown",
   "metadata": {
    "id": "WfPe-_9iawIJ"
   },
   "source": [
    "### Introduction\n",
    "\n",
    "This assignment will get you familiar with the Gymnasium (previously OpenAI Gym) environment and estimation via sampling trajectories.\n"
   ]
  },
  {
   "cell_type": "code",
   "execution_count": 4,
   "metadata": {
    "id": "VEvS3FEgWxc6"
   },
   "outputs": [],
   "source": [
    "import gymnasium as gym\n",
    "import numpy as np"
   ]
  },
  {
   "cell_type": "markdown",
   "metadata": {},
   "source": [
    "We will be playing on the Cartpole environment. As the title suggests, the task in this environment is to balance a pole on top of a cart. The official description of the environment from the Gymnasium website (https://gymnasium.farama.org/environments/classic_control/cart_pole/) is:\n",
    "\n",
    "> This environment corresponds to the version of the cart-pole problem described by Barto, Sutton, and Anderson in “Neuronlike Adaptive Elements That Can Solve Difficult Learning Control Problem”. A pole is attached by an un-actuated joint to a cart, which moves along a frictionless track. The pendulum is placed upright on the cart and the goal is to balance the pole by applying forces in the left and right direction on the cart.\n",
    "\n",
    "More information can be found on the that wiki page.\n",
    "\n",
    "The environment is loaded as follows:"
   ]
  },
  {
   "cell_type": "code",
   "execution_count": 17,
   "metadata": {
    "colab": {
     "base_uri": "https://localhost:8080/"
    },
    "id": "0E9zqEYpOd6b",
    "outputId": "130864ec-dbdd-4fae-c4aa-97bd2ff31361"
   },
   "outputs": [
    {
     "data": {
      "text/plain": [
       "(array([-0.02637273,  0.00786041, -0.03403224, -0.01535948], dtype=float32),\n",
       " {})"
      ]
     },
     "execution_count": 17,
     "metadata": {},
     "output_type": "execute_result"
    }
   ],
   "source": [
    "env = gym.make('CartPole-v1')\n",
    "env.reset() #must reset the environment before interacting with it\n"
   ]
  },
  {
   "cell_type": "markdown",
   "metadata": {
    "id": "_p-aroLbSNHc"
   },
   "source": [
    "Here is the policy that you will be using (which just acts randomly with a uniform distribution). "
   ]
  },
  {
   "cell_type": "code",
   "execution_count": 18,
   "metadata": {
    "id": "_Tj6_VrSSW_0"
   },
   "outputs": [],
   "source": [
    "def policy_unif(s):\n",
    "  a = env.action_space.sample()\n",
    "  return a"
   ]
  },
  {
   "cell_type": "code",
   "execution_count": 19,
   "metadata": {},
   "outputs": [
    {
     "data": {
      "text/plain": [
       "(array([-0.02621552,  0.20345348, -0.03433944, -0.31858274], dtype=float32),\n",
       " 1.0,\n",
       " False,\n",
       " False,\n",
       " {})"
      ]
     },
     "execution_count": 19,
     "metadata": {},
     "output_type": "execute_result"
    }
   ],
   "source": [
    "env.step(env.action_space.sample())"
   ]
  },
  {
   "cell_type": "markdown",
   "metadata": {
    "id": "9gGjIQIkWKEw"
   },
   "source": [
    " You can interact with the environment with the env.step() function, as follows:"
   ]
  },
  {
   "cell_type": "code",
   "execution_count": 11,
   "metadata": {
    "colab": {
     "base_uri": "https://localhost:8080/"
    },
    "id": "GFN1pJUaWOqm",
    "outputId": "5bb54b83-0c86-480f-973f-e27f97255162"
   },
   "outputs": [
    {
     "name": "stdout",
     "output_type": "stream",
     "text": [
      "[ 0.03569882  0.55785906 -0.1506548  -1.0316151 ]\n",
      "1.0\n",
      "False\n",
      "{}\n"
     ]
    }
   ],
   "source": [
    "observation, reward, terminated, truncated, info = env.step(env.action_space.sample())\n",
    "print(observation)\n",
    "print(reward)\n",
    "print(terminated)\n",
    "print(info)"
   ]
  },
  {
   "cell_type": "code",
   "execution_count": 21,
   "metadata": {},
   "outputs": [],
   "source": [
    "def rbf_random_fourier_features(state, action, feature_dim, length_scale=1.0):\n",
    "    np.random.seed(0)\n",
    "    state_array = np.array(state[0], dtype=np.float32).reshape(-1)\n",
    "    action_array = np.array([float(action)])\n",
    "    state_action = np.concatenate((state_array, action_array))\n",
    "    dim = state_action.shape[0]\n",
    "    \n",
    "    # Handle even/odd feature dimensions\n",
    "    if feature_dim % 2 == 0:\n",
    "        d_cos = d_sin = feature_dim // 2\n",
    "    else:\n",
    "        d_cos = (feature_dim + 1) // 2\n",
    "        d_sin = (feature_dim - 1) // 2\n",
    "    \n",
    "    omega = np.random.normal(scale=1.0/length_scale, size=(dim, d_cos))\n",
    "    bias = np.random.uniform(0, 2 * np.pi, size=d_cos)\n",
    "    z = state_action @ omega + bias\n",
    "    cos_features = np.cos(z)\n",
    "    sin_features = np.sin(z[:d_sin]) if d_sin > 0 else np.array([])\n",
    "    feature = np.sqrt(1.0 / feature_dim) * np.concatenate([cos_features, sin_features])\n",
    "    return feature"
   ]
  },
  {
   "cell_type": "code",
   "execution_count": 60,
   "metadata": {},
   "outputs": [
    {
     "name": "stdout",
     "output_type": "stream",
     "text": [
      "State: (array([ 0.02442347,  0.03630089,  0.03739835, -0.03865002], dtype=float32), {})\n",
      "Action: 1\n",
      "Feature: [ 0.32081474  0.21318276 -0.44342887  0.31157327 -0.39313243]\n"
     ]
    }
   ],
   "source": [
    "# Generate a state-action pair\n",
    "# import random\n",
    "# random.seed(0)\n",
    "state = env.reset()\n",
    "action = env.action_space.sample()\n",
    "\n",
    "# Calculate the feature\n",
    "feature_dim = 5 # You can adjust the feature dimension as needed\n",
    "length_scale = 1.0  # You can adjust the length scale as needed\n",
    "feature = rbf_random_fourier_features(state, action, feature_dim, length_scale)\n",
    "\n",
    "print(\"State:\", state)\n",
    "print(\"Action:\", action)\n",
    "print(\"Feature:\", feature)"
   ]
  },
  {
   "cell_type": "markdown",
   "metadata": {
    "id": "eg5RqiBMQKKw"
   },
   "source": [
    "### Question 1\n",
    "\n",
    "Write a method called collect_trajectory(policy) which collects one trajectory for an episode in the Cartpole environment. Your method should take as input the policy and output a list of the form (s0,a0,r0,s1,a1,r1,...,sT,aT,rT), where T is the length of the episode."
   ]
  },
  {
   "cell_type": "code",
   "execution_count": 5,
   "metadata": {
    "id": "Ob_sqnGGQlJC"
   },
   "outputs": [],
   "source": [
    "#Q1 solution\n",
    "def collect_trajectory(policy):\n",
    "  s0 = env.reset()\n",
    "  traj_list = [s0]\n",
    "  while True:\n",
    "    a0 = policy(s0)\n",
    "    traj_list.append(a0)\n",
    "    s1, r0, done, _, _ = env.step(a0)\n",
    "    traj_list.append(r0)\n",
    "    traj_list.append(s1)\n",
    "    s0 = s1\n",
    "    if done:\n",
    "      break\n",
    "  return traj_list[:-1] #removing the terminal state\n"
   ]
  },
  {
   "cell_type": "markdown",
   "metadata": {
    "id": "wwwP8NzVRYL6"
   },
   "source": [
    "### Question 2\n",
    "\n",
    "Write a method called compute_return, which takes as input one trajectory of the form given by collect_trajectory in Q1 and a discount factor, and calculates the random return of the trajectory, i.e., r0 + γ r1 + γ^2 r2 + ... + γ^T rT."
   ]
  },
  {
   "cell_type": "code",
   "execution_count": 6,
   "metadata": {
    "id": "3DBJBZhqRhwa"
   },
   "outputs": [],
   "source": [
    "#Q2 solution\n",
    "def compute_return(traj,gamma):\n",
    "  if traj==[]:\n",
    "    return 0\n",
    "  else:\n",
    "    return traj[2]+gamma*compute_return(traj[3:],gamma)"
   ]
  },
  {
   "cell_type": "markdown",
   "metadata": {
    "id": "Jw1Yvbw05uPP"
   },
   "source": [
    "### Question 3\n",
    "\n",
    "Collect 150 trajectories starting from the initial states given by env.reset() and compute the random return of each trajectory, using the given policy and $\\gamma=0.99$.\n",
    "\n",
    "1.   Plot a histogram of these returns.\n",
    "2.   Estimate the mean of these returns, and give your result in the form of $X \\pm Y$, where $X$ is the estimated mean and $Y$ is twice the standard error of your mean estimate, which corresponds to a 95% confidence interval.\n",
    "\n",
    "Remark: The mean is also an estimate of the value function of $\\pi$ for the initial state, often referred to as a \"Monte-Carlo\" estimation."
   ]
  },
  {
   "cell_type": "code",
   "execution_count": 7,
   "metadata": {
    "colab": {
     "base_uri": "https://localhost:8080/",
     "height": 282
    },
    "id": "sYNjz6fS9Vaj",
    "outputId": "854b9491-9b99-4671-c609-7dd44058318e"
   },
   "outputs": [
    {
     "name": "stdout",
     "output_type": "stream",
     "text": [
      "The estimated return is  19.97 +/- 1.47\n"
     ]
    },
    {
     "data": {
      "image/png": "[encoded data removed]",
      "text/plain": [
       "<Figure size 640x480 with 1 Axes>"
      ]
     },
     "metadata": {},
     "output_type": "display_data"
    }
   ],
   "source": [
    "#Q3 solution:\n",
    "import matplotlib.pyplot as plt\n",
    "import numpy as np\n",
    "\n",
    "#100 returns\n",
    "returns=[]\n",
    "for i in range(150):\n",
    "  returns.append(compute_return(collect_trajectory(policy_unif),0.99))\n",
    "\n",
    "#plotting\n",
    "plt.hist(returns, bins = 20)\n",
    "\n",
    "#estimated return\n",
    "value = np.mean(returns)\n",
    "from scipy import stats\n",
    "stderr = 2 * stats.sem(returns)\n",
    "print('The estimated return is ', round(value, 2), '+/-', round(stderr, 2))"
   ]
  }
 ],
 "metadata": {
  "colab": {
   "collapsed_sections": [],
   "name": "Assignment1_solutions.ipynb",
   "provenance": []
  },
  "kernelspec": {
   "display_name": "base",
   "language": "python",
   "name": "python3"
  },
  "language_info": {
   "codemirror_mode": {
    "name": "ipython",
    "version": 3
   },
   "file_extension": ".py",
   "mimetype": "text/x-python",
   "name": "python",
   "nbconvert_exporter": "python",
   "pygments_lexer": "ipython3",
   "version": "3.12.3"
  }
 },
 "nbformat": 4,
 "nbformat_minor": 4
}
