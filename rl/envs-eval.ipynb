{
 "cells": [
  {
   "cell_type": "code",
   "execution_count": 1,
   "metadata": {},
   "outputs": [],
   "source": [
    "import gymnasium as gym\n",
    "import numpy as np\n",
    "import matplotlib.pyplot as plt\n",
    "from tqdm import tqdm\n",
    "from stable_baselines3 import PPO"
   ]
  },
  {
   "cell_type": "code",
   "execution_count": 2,
   "metadata": {},
   "outputs": [],
   "source": [
    "model_PPO = PPO.load(\"ppo_cartpole\")\n"
   ]
  },
  {
   "cell_type": "code",
   "execution_count": 3,
   "metadata": {},
   "outputs": [],
   "source": [
    "n_samples = 10000\n",
    "feature_dim = 100  # Example feature dimension\n",
    "repeat = 1\n",
    "gamma = 0.99\n",
    "num_grids = 3"
   ]
  },
  {
   "cell_type": "code",
   "execution_count": 4,
   "metadata": {},
   "outputs": [
    {
     "data": {
      "text/plain": [
       "(array([-0.02061113,  0.0127646 ,  0.00177834,  0.01344804], dtype=float32),\n",
       " {})"
      ]
     },
     "execution_count": 4,
     "metadata": {},
     "output_type": "execute_result"
    }
   ],
   "source": [
    "env = gym.make('CartPole-v1')\n",
    "env.reset()\n"
   ]
  },
  {
   "cell_type": "code",
   "execution_count": 5,
   "metadata": {},
   "outputs": [],
   "source": [
    "# model = PPO('MlpPolicy', env, verbose=1)\n",
    "# model.learn(total_timesteps=100000)\n",
    "# model.save(\"ppo_cartpole\")"
   ]
  },
  {
   "cell_type": "code",
   "execution_count": 5,
   "metadata": {},
   "outputs": [
    {
     "data": {
      "text/plain": [
       "array(0, dtype=int64)"
      ]
     },
     "execution_count": 5,
     "metadata": {},
     "output_type": "execute_result"
    }
   ],
   "source": [
    "obs, _ = env.reset()\n",
    "obs\n",
    "action = model_PPO.predict(obs)[0]\n",
    "action"
   ]
  },
  {
   "cell_type": "code",
   "execution_count": 6,
   "metadata": {},
   "outputs": [],
   "source": [
    "observation, reward, terminated, truncated, info = env.step(action)\n"
   ]
  },
  {
   "cell_type": "code",
   "execution_count": 7,
   "metadata": {},
   "outputs": [],
   "source": [
    "def policy_unif(s):\n",
    "  a = env.action_space.sample()\n",
    "  return a\n",
    "\n",
    "def policy_PPO(s):\n",
    "  action = model_PPO.predict(s)[0]\n",
    "  return action\n",
    "def policy_mix(mix):\n",
    "    \"\"\"\n",
    "    Creates a policy function with fixed mix parameter\n",
    "    \n",
    "    Args:\n",
    "        mix: Probability of using PPO policy (default 0.75)\n",
    "    \n",
    "    Returns:\n",
    "        Function that takes only state parameter\n",
    "    \"\"\"\n",
    "    def policy(s):\n",
    "        if np.random.rand() < mix:\n",
    "            return policy_PPO(s)\n",
    "        else:\n",
    "            return policy_unif(s)\n",
    "    return policy\n",
    "def rbf_random_fourier_features(state, action, feature_dim = feature_dim, length_scale=1.0):\n",
    "    np.random.seed(0)\n",
    "    state_array = np.array(state, dtype=np.float32).reshape(-1)\n",
    "    action_array = np.array([float(action)])\n",
    "    state_action = np.concatenate((state_array, action_array))\n",
    "    dim = state_action.shape[0]\n",
    "    \n",
    "    # Handle even/odd feature dimensions\n",
    "    if feature_dim % 2 == 0:\n",
    "        d_cos = d_sin = feature_dim // 2\n",
    "    else:\n",
    "        d_cos = (feature_dim + 1) // 2\n",
    "        d_sin = (feature_dim - 1) // 2\n",
    "    \n",
    "    omega = np.random.normal(scale=1.0/length_scale, size=(dim, d_cos))\n",
    "    bias = np.random.uniform(0, 2 * np.pi, size=d_cos)\n",
    "    z = state_action @ omega + bias\n",
    "    cos_features = np.cos(z)\n",
    "    sin_features = np.sin(z[:d_sin]) if d_sin > 0 else np.array([])\n",
    "    feature = np.sqrt(1.0 / feature_dim) * np.concatenate([cos_features, sin_features])\n",
    "    return feature\n",
    "\n",
    "def collect_trajectory(policy, feature_dim):\n",
    "    s0, _ = env.reset()\n",
    "    traj_list = [s0]\n",
    "    while True:\n",
    "        a0 = policy(s0)\n",
    "        phi_sa = rbf_random_fourier_features(s0, a0, feature_dim)\n",
    "        traj_list.append(phi_sa)\n",
    "        s1, r0,  terminated, truncated, _ = env.step(a0)\n",
    "        traj_list.append(r0)\n",
    "        traj_list.append(s1)\n",
    "        s0 = s1\n",
    "        if terminated or truncated:\n",
    "            break\n",
    "    # print(len(traj_list))\n",
    "    return traj_list  # removing the terminal state\n",
    "\n",
    "def collect_data(n, policy, feature_dim=feature_dim):\n",
    "    data = []\n",
    "    while len(data) < n:\n",
    "        trajectory = collect_trajectory(policy, feature_dim)\n",
    "        i = 0\n",
    "        while i <= len(trajectory)-3:\n",
    "            state = trajectory[i]\n",
    "            action = policy(state)\n",
    "            phi_sa = rbf_random_fourier_features(state, action, feature_dim)\n",
    "            reward = trajectory[i+2]\n",
    "            next_state = trajectory[i+3]\n",
    "            next_action = policy(next_state)\n",
    "            phi_sa_prime = rbf_random_fourier_features(next_state, next_action, feature_dim)\n",
    "            \n",
    "            data.append((phi_sa, reward, phi_sa_prime))\n",
    "            i += 3\n",
    "            if len(data) >= n:\n",
    "                break\n",
    "\n",
    "    return data[:n]  # Return exactly n samples as a single array\n",
    "\n",
    "def Q(state, action, theta,feature_dim=feature_dim):\n",
    "    phi_sa = rbf_random_fourier_features(state, action, feature_dim)\n",
    "    return np.dot(theta, phi_sa)\n",
    "\n",
    "def policy_eval_LSTD(theta_init,data, feature_dim=feature_dim, alpha=0.01):\n",
    "    '''Use TD(0) which converges to the solution of LSTD'''\n",
    "    theta_lstd = np.copy(theta_init)\n",
    "    for phi_sa, reward, phi_sa_prime in data:\n",
    "        Q_sa = np.dot(theta_lstd, phi_sa)\n",
    "        Q_sa_prime = np.dot(theta_lstd, phi_sa_prime)\n",
    "        td_error = reward + gamma * Q_sa_prime - Q_sa\n",
    "        theta_lstd += alpha * td_error * phi_sa\n",
    "    \n",
    "    # def Q(state, action):\n",
    "    #     phi_sa = rbf_random_fourier_features(state, action, feature_dim)\n",
    "    #     return np.dot(theta_lstd, phi_sa)\n",
    "    \n",
    "    return theta_lstd\n",
    "\n",
    "def policy_eval_BRM(theta_init, data,  feature_dim=feature_dim, learning_rate=0.1):\n",
    "    theta_BRM = np.copy(theta_init)\n",
    "    for phi_sa, reward, phi_sa_prime in data:\n",
    "        x_sa = phi_sa - gamma * phi_sa_prime\n",
    "        gradient = -2 * (reward - np.dot(x_sa, theta_BRM)) * x_sa\n",
    "        theta_BRM -= learning_rate * gradient\n",
    "        \n",
    "    # def Q(state, action):\n",
    "    #     phi_sa = rbf_random_fourier_features(state, action, feature_dim)\n",
    "    #     return np.dot(theta_BRM, phi_sa)\n",
    "    \n",
    "    return theta_BRM"
   ]
  },
  {
   "cell_type": "code",
   "execution_count": 9,
   "metadata": {},
   "outputs": [
    {
     "data": {
      "text/plain": [
       "array([ 0.02782997,  0.06809066,  0.09688973, -0.03457176,  0.01723514,\n",
       "       -0.01838976, -0.04141672, -0.03517738, -0.09610272, -0.005427  ,\n",
       "       -0.06563977, -0.03699665, -0.09634159,  0.07777791, -0.01340933,\n",
       "        0.06635411, -0.09891963,  0.02624539, -0.04658989,  0.09843899,\n",
       "       -0.04994133,  0.09498706, -0.09111659, -0.09937835, -0.09793976,\n",
       "       -0.00375833, -0.01167022,  0.07769259, -0.07193588,  0.09580739,\n",
       "        0.02239845,  0.0281593 , -0.09993533, -0.07947872,  0.06453902,\n",
       "       -0.03114617, -0.07317238, -0.08405977,  0.08220681, -0.00874725,\n",
       "       -0.05857021, -0.02805199, -0.00203869, -0.09757825,  0.00144954,\n",
       "        0.07189296,  0.05359808,  0.09123208, -0.08972311, -0.0595186 ,\n",
       "        0.09604943, -0.07323703,  0.02474632, -0.09383386, -0.09850355,\n",
       "       -0.09829454,  0.09102008,  0.0936085 , -0.02764539,  0.09985263,\n",
       "        0.07544151,  0.09290451, -0.02680107,  0.06285377, -0.09909687,\n",
       "        0.07481398, -0.01465971,  0.09649445, -0.0884838 , -0.01760014,\n",
       "       -0.08663639,  0.03126434,  0.04120398, -0.011133  ,  0.02019415,\n",
       "       -0.09992935,  0.0993167 ,  0.06295921,  0.06946387, -0.02865211,\n",
       "        0.09745927, -0.09595339,  0.00359591,  0.06068882, -0.07638531,\n",
       "        0.09502587, -0.06816012,  0.054166  , -0.05693892, -0.09961669,\n",
       "       -0.08105264,  0.09598482, -0.09997922, -0.02187429,  0.09998949,\n",
       "        0.06950829, -0.08442302, -0.04094761, -0.04415612, -0.0803588 ])"
      ]
     },
     "execution_count": 9,
     "metadata": {},
     "output_type": "execute_result"
    }
   ],
   "source": [
    "rbf_random_fourier_features(observation, action, feature_dim)"
   ]
  },
  {
   "cell_type": "code",
   "execution_count": 8,
   "metadata": {},
   "outputs": [],
   "source": [
    "offline_data = collect_data(n_samples, policy_PPO, feature_dim)\n"
   ]
  },
  {
   "cell_type": "code",
   "execution_count": 11,
   "metadata": {},
   "outputs": [
    {
     "name": "stdout",
     "output_type": "stream",
     "text": [
      "[-0.01363454  0.02223433  0.01610093 -0.02883648] 0\n"
     ]
    }
   ],
   "source": [
    "state, _ = env.reset()\n",
    "action = env.action_space.sample()\n",
    "print(state, action)"
   ]
  },
  {
   "cell_type": "code",
   "execution_count": 12,
   "metadata": {},
   "outputs": [],
   "source": [
    "theta_init = np.zeros(feature_dim)\n",
    "Q_lstd = policy_eval_LSTD(theta_init, offline_data)\n",
    "Q_BRM = policy_eval_BRM(theta_init, offline_data)"
   ]
  },
  {
   "cell_type": "code",
   "execution_count": 9,
   "metadata": {},
   "outputs": [],
   "source": [
    "def index_to_state_action(i, n_grid_points=num_grids):\n",
    "    \"\"\"\n",
    "    Maps index i (0 to 2*n_grid_points^4-1) to a state-action pair\n",
    "    \n",
    "    Returns:\n",
    "    - state: np.array of shape (4,)\n",
    "    - action: int (0 or 1)\n",
    "    \"\"\"\n",
    "    # State bounds\n",
    "    state_bounds = [\n",
    "        [-4.8, 4.8],     # cart position\n",
    "        [-10.0, 10.0],   # cart velocity\n",
    "        [-0.418, 0.418], # pole angle\n",
    "        [-10.0, 10.0]    # pole angular velocity\n",
    "    ]\n",
    "    \n",
    "    # Total states per dimension\n",
    "    n_states = n_grid_points**4\n",
    "    \n",
    "    # Determine action (0 for first half indices, 1 for second half)\n",
    "    action = 1 if i>= n_states else 0\n",
    "    \n",
    "    # Get state index (map back to state space)\n",
    "    state_idx = i % n_states\n",
    "    \n",
    "    # Convert to grid coordinates\n",
    "    idx_4 = state_idx % n_grid_points\n",
    "    idx_3 = (state_idx // n_grid_points) % n_grid_points\n",
    "    idx_2 = (state_idx // (n_grid_points**2)) % n_grid_points\n",
    "    idx_1 = state_idx // (n_grid_points**3)\n",
    "    \n",
    "    # Convert grid coordinates to actual state values\n",
    "    state = np.array([\n",
    "        np.linspace(state_bounds[0][0], state_bounds[0][1], n_grid_points)[idx_1],\n",
    "        np.linspace(state_bounds[1][0], state_bounds[1][1], n_grid_points)[idx_2],\n",
    "        np.linspace(state_bounds[2][0], state_bounds[2][1], n_grid_points)[idx_3],\n",
    "        np.linspace(state_bounds[3][0], state_bounds[3][1], n_grid_points)[idx_4]\n",
    "    ])\n",
    "    \n",
    "    return state, action\n",
    "\n",
    "# Example usage:\n"
   ]
  },
  {
   "cell_type": "code",
   "execution_count": 10,
   "metadata": {},
   "outputs": [],
   "source": [
    "def grid_evaluation_pairs(policy, num_grids = num_grids, n_episodes=100, max_steps=500):\n",
    "    \"\"\"\n",
    "    Estimates Q values using given policy for trajectories\n",
    "    \n",
    "    Args:\n",
    "        policy: Function that takes state and returns action\n",
    "        num_grids: Number of grid points per dimension\n",
    "        n_episodes: Number of episodes per state-action pair\n",
    "        max_steps: Maximum steps per episode\n",
    "        \n",
    "    Returns:\n",
    "        Q_vector: Estimated Q-values for each state-action pair\n",
    "    \"\"\"\n",
    "    env = gym.make('CartPole-v1')\n",
    "    total_pairs = 2 * num_grids**4\n",
    "    Q_vector = np.zeros(total_pairs)\n",
    "    \n",
    "    for i in tqdm(range(total_pairs)):\n",
    "        state, action = index_to_state_action(i, num_grids)\n",
    "        returns = []\n",
    "        \n",
    "        for _ in range(n_episodes):\n",
    "            env.reset()\n",
    "            env.unwrapped.s = state\n",
    "            \n",
    "            # Take specified initial action\n",
    "            next_state, reward, term, trunc, _ = env.step(action)\n",
    "            total_return = reward\n",
    "            \n",
    "            # Continue with policy-chosen actions\n",
    "            discount = gamma\n",
    "            curr_state = next_state\n",
    "            steps = 0\n",
    "            \n",
    "            while not (term or trunc) and steps < max_steps:\n",
    "                # Use policy to select action\n",
    "                curr_action = policy(curr_state)\n",
    "                curr_state, r, term, trunc, _ = env.step(curr_action)\n",
    "                total_return += discount * r\n",
    "                discount *= gamma\n",
    "                steps += 1\n",
    "                \n",
    "                if discount < 1e-10:\n",
    "                    break\n",
    "                    \n",
    "            returns.append(total_return)\n",
    "            \n",
    "        Q_vector[i] = np.mean(returns)\n",
    "    \n",
    "    env.close()\n",
    "    return Q_vector\n",
    "def loss_policy_evaluation(theta, Q_real, num_grids = num_grids):\n",
    "    loss = 0 \n",
    "    total_pairs = 2 * num_grids**4\n",
    "    for i in range(total_pairs):\n",
    "        state, action = index_to_state_action(i, num_grids)\n",
    "        Q_est_i = Q(state, action, theta)\n",
    "        loss += (Q_est_i- Q_real[i])**2\n",
    "    loss /= total_pairs\n",
    "    return loss"
   ]
  },
  {
   "cell_type": "code",
   "execution_count": 11,
   "metadata": {},
   "outputs": [
    {
     "name": "stderr",
     "output_type": "stream",
     "text": [
      "100%|██████████| 162/162 [34:24<00:00, 12.74s/it]\n"
     ]
    }
   ],
   "source": [
    "Q_real = grid_evaluation_pairs(policy_mix(1))\n",
    "np.save(f\"Q_function_grid_3_gamma_0.99.npy\", Q_real)"
   ]
  },
  {
   "cell_type": "code",
   "execution_count": 12,
   "metadata": {},
   "outputs": [
    {
     "data": {
      "text/plain": [
       "array([99.3429517, 99.3429517, 99.3429517, 99.3429517, 99.3429517,\n",
       "       99.3429517, 99.3429517, 99.3429517, 99.3429517, 99.3429517,\n",
       "       99.3429517, 99.3429517, 99.3429517, 99.3429517, 99.3429517,\n",
       "       99.3429517, 99.3429517, 99.3429517, 99.3429517, 99.3429517,\n",
       "       99.3429517, 99.3429517, 99.3429517, 99.3429517, 99.3429517,\n",
       "       99.3429517, 99.3429517, 99.3429517, 99.3429517, 99.3429517,\n",
       "       99.3429517, 99.3429517, 99.3429517, 99.3429517, 99.3429517,\n",
       "       99.3429517, 99.3429517, 99.3429517, 99.3429517, 99.3429517,\n",
       "       99.3429517, 99.3429517, 99.3429517, 99.3429517, 99.3429517,\n",
       "       99.3429517, 99.3429517, 99.3429517, 99.3429517, 99.3429517,\n",
       "       99.3429517, 99.3429517, 99.3429517, 99.3429517, 99.3429517,\n",
       "       99.3429517, 99.3429517, 99.3429517, 99.3429517, 99.3429517,\n",
       "       99.3429517, 99.3429517, 99.3429517, 99.3429517, 99.3429517,\n",
       "       99.3429517, 99.3429517, 99.3429517, 99.3429517, 99.3429517,\n",
       "       99.3429517, 99.3429517, 99.3429517, 99.3429517, 99.3429517,\n",
       "       99.3429517, 99.3429517, 99.3429517, 99.3429517, 99.3429517,\n",
       "       99.3429517, 99.3429517, 99.3429517, 99.3429517, 99.3429517,\n",
       "       99.3429517, 99.3429517, 99.3429517, 99.3429517, 99.3429517,\n",
       "       99.3429517, 99.3429517, 99.3429517, 99.3429517, 99.3429517,\n",
       "       99.3429517, 99.3429517, 99.3429517, 99.3429517, 99.3429517,\n",
       "       99.3429517, 99.3429517, 99.3429517, 99.3429517, 99.3429517,\n",
       "       99.3429517, 99.3429517, 99.3429517, 99.3429517, 99.3429517,\n",
       "       99.3429517, 99.3429517, 99.3429517, 99.3429517, 99.3429517,\n",
       "       99.3429517, 99.3429517, 99.3429517, 99.3429517, 99.3429517,\n",
       "       99.3429517, 99.3429517, 99.3429517, 99.3429517, 99.3429517,\n",
       "       99.3429517, 99.3429517, 99.3429517, 99.3429517, 99.3429517,\n",
       "       99.3429517, 99.3429517, 99.3429517, 99.3429517, 99.3429517,\n",
       "       99.3429517, 99.3429517, 99.3429517, 99.3429517, 99.3429517,\n",
       "       99.3429517, 99.3429517, 99.3429517, 99.3429517, 99.3429517,\n",
       "       99.3429517, 99.3429517, 99.3429517, 99.3429517, 99.3429517,\n",
       "       99.3429517, 99.3429517, 99.3429517, 99.3429517, 99.3429517,\n",
       "       99.3429517, 99.3429517, 99.3429517, 99.3429517, 99.3429517,\n",
       "       99.3429517, 99.3429517])"
      ]
     },
     "execution_count": 12,
     "metadata": {},
     "output_type": "execute_result"
    }
   ],
   "source": [
    "Q_real"
   ]
  },
  {
   "cell_type": "code",
   "execution_count": 16,
   "metadata": {},
   "outputs": [],
   "source": [
    "Q_real = np.load(f\"Q_function_grid_3.npy\")\n",
    "iter = int( n_samples / 50 )\n",
    "loss_LSTD = [0] * int(n_samples/ iter)\n",
    "loss_BRM = [0] * int(n_samples/ iter)\n",
    "total_pairs = 2 * num_grids**4\n",
    "\n",
    "l2_norm_diff_BRM_list = []\n",
    "l2_norm_diff_LSTD_list = []\n",
    "\n",
    "\n",
    "theta_lstd = np.zeros(feature_dim)\n",
    "theta_BRM = np.zeros(feature_dim)\n",
    "for m in range(iter, n_samples + 1, iter):\n",
    "    \n",
    "    offline_data = collect_data(iter, policy_PPO, feature_dim)\n",
    "    theta_lstd = policy_eval_LSTD(theta_lstd, offline_data)\n",
    "    theta_BRM = policy_eval_BRM(theta_BRM, offline_data)\n",
    "    loss_LSTD_m = loss_policy_evaluation(theta_lstd, Q_real)\n",
    "    loss_BRM_m = loss_policy_evaluation(theta_BRM, Q_real)\n",
    "\n",
    "    l2_norm_diff_LSTD_list.append(loss_LSTD_m)\n",
    "    l2_norm_diff_BRM_list.append(loss_BRM_m)\n",
    "    # print(len(l2_norm_diff_LSTD_list), len(l2_norm_diff_BRM_list))\n",
    "    \n",
    "\n"
   ]
  },
  {
   "cell_type": "code",
   "execution_count": 17,
   "metadata": {},
   "outputs": [
    {
     "data": {
      "image/png": "[encoded data removed]",
      "text/plain": [
       "<Figure size 1000x600 with 1 Axes>"
      ]
     },
     "metadata": {},
     "output_type": "display_data"
    }
   ],
   "source": [
    "plt.figure(figsize=(10, 6))\n",
    "\n",
    "plt.plot(range(iter, n_samples + 1, iter), l2_norm_diff_BRM_list, label='BRM Loss', color='red')\n",
    "\n",
    "plt.plot(range(iter, n_samples + 1, iter), l2_norm_diff_LSTD_list, label='LSTD Loss', color='blue')\n",
    "plt.xlabel('Number of Data Points')\n",
    "plt.ylabel('L2 Norm Difference')\n",
    "# plt.yscale('log')\n",
    "plt.title('Loss Curves for BRM and LSTD')\n",
    "plt.legend()\n",
    "plt.grid(True)\n",
    "plt.savefig('plot_image.pdf', bbox_inches='tight')          # Save as PDF\n",
    "plt.show()"
   ]
  },
  {
   "cell_type": "code",
   "execution_count": 18,
   "metadata": {},
   "outputs": [],
   "source": [
    "import gymnasium as gym\n",
    "# Add this import to ensure proper initialization\n",
    "# import torch\n",
    "from stable_baselines3 import PPO\n",
    "\n",
    "# Create the Cartpole environment\n",
    "# env = gym.make('CartPole-v1')\n",
    "env = gym.make('MountainCar-v0')\n",
    "env.reset()\n",
    "obs = env.reset()[0]\n",
    "obs\n",
    "model = PPO.load(\"ppo_mountaincar\")\n",
    "\n"
   ]
  },
  {
   "cell_type": "code",
   "execution_count": 19,
   "metadata": {},
   "outputs": [
    {
     "data": {
      "text/plain": [
       "(array(1, dtype=int64), None)"
      ]
     },
     "execution_count": 19,
     "metadata": {},
     "output_type": "execute_result"
    }
   ],
   "source": [
    "action = model.predict(obs)\n",
    "action"
   ]
  },
  {
   "cell_type": "code",
   "execution_count": 20,
   "metadata": {},
   "outputs": [
    {
     "ename": "AssertionError",
     "evalue": "(array(1, dtype=int64), None) (<class 'tuple'>) invalid",
     "output_type": "error",
     "traceback": [
      "\u001b[1;31m---------------------------------------------------------------------------\u001b[0m",
      "\u001b[1;31mAssertionError\u001b[0m                            Traceback (most recent call last)",
      "Cell \u001b[1;32mIn[20], line 1\u001b[0m\n\u001b[1;32m----> 1\u001b[0m \u001b[43menv\u001b[49m\u001b[38;5;241;43m.\u001b[39;49m\u001b[43mstep\u001b[49m\u001b[43m(\u001b[49m\u001b[43maction\u001b[49m\u001b[43m)\u001b[49m\n",
      "File \u001b[1;32mc:\\Users\\xuanf\\miniconda3\\envs\\policy-eval\\Lib\\site-packages\\gymnasium\\wrappers\\common.py:125\u001b[0m, in \u001b[0;36mTimeLimit.step\u001b[1;34m(self, action)\u001b[0m\n\u001b[0;32m    112\u001b[0m \u001b[38;5;28;01mdef\u001b[39;00m \u001b[38;5;21mstep\u001b[39m(\n\u001b[0;32m    113\u001b[0m     \u001b[38;5;28mself\u001b[39m, action: ActType\n\u001b[0;32m    114\u001b[0m ) \u001b[38;5;241m-\u001b[39m\u001b[38;5;241m>\u001b[39m \u001b[38;5;28mtuple\u001b[39m[ObsType, SupportsFloat, \u001b[38;5;28mbool\u001b[39m, \u001b[38;5;28mbool\u001b[39m, \u001b[38;5;28mdict\u001b[39m[\u001b[38;5;28mstr\u001b[39m, Any]]:\n\u001b[0;32m    115\u001b[0m \u001b[38;5;250m    \u001b[39m\u001b[38;5;124;03m\"\"\"Steps through the environment and if the number of steps elapsed exceeds ``max_episode_steps`` then truncate.\u001b[39;00m\n\u001b[0;32m    116\u001b[0m \n\u001b[0;32m    117\u001b[0m \u001b[38;5;124;03m    Args:\u001b[39;00m\n\u001b[1;32m   (...)\u001b[0m\n\u001b[0;32m    123\u001b[0m \n\u001b[0;32m    124\u001b[0m \u001b[38;5;124;03m    \"\"\"\u001b[39;00m\n\u001b[1;32m--> 125\u001b[0m     observation, reward, terminated, truncated, info \u001b[38;5;241m=\u001b[39m \u001b[38;5;28;43mself\u001b[39;49m\u001b[38;5;241;43m.\u001b[39;49m\u001b[43menv\u001b[49m\u001b[38;5;241;43m.\u001b[39;49m\u001b[43mstep\u001b[49m\u001b[43m(\u001b[49m\u001b[43maction\u001b[49m\u001b[43m)\u001b[49m\n\u001b[0;32m    126\u001b[0m     \u001b[38;5;28mself\u001b[39m\u001b[38;5;241m.\u001b[39m_elapsed_steps \u001b[38;5;241m+\u001b[39m\u001b[38;5;241m=\u001b[39m \u001b[38;5;241m1\u001b[39m\n\u001b[0;32m    128\u001b[0m     \u001b[38;5;28;01mif\u001b[39;00m \u001b[38;5;28mself\u001b[39m\u001b[38;5;241m.\u001b[39m_elapsed_steps \u001b[38;5;241m>\u001b[39m\u001b[38;5;241m=\u001b[39m \u001b[38;5;28mself\u001b[39m\u001b[38;5;241m.\u001b[39m_max_episode_steps:\n",
      "File \u001b[1;32mc:\\Users\\xuanf\\miniconda3\\envs\\policy-eval\\Lib\\site-packages\\gymnasium\\wrappers\\common.py:393\u001b[0m, in \u001b[0;36mOrderEnforcing.step\u001b[1;34m(self, action)\u001b[0m\n\u001b[0;32m    391\u001b[0m \u001b[38;5;28;01mif\u001b[39;00m \u001b[38;5;129;01mnot\u001b[39;00m \u001b[38;5;28mself\u001b[39m\u001b[38;5;241m.\u001b[39m_has_reset:\n\u001b[0;32m    392\u001b[0m     \u001b[38;5;28;01mraise\u001b[39;00m ResetNeeded(\u001b[38;5;124m\"\u001b[39m\u001b[38;5;124mCannot call env.step() before calling env.reset()\u001b[39m\u001b[38;5;124m\"\u001b[39m)\n\u001b[1;32m--> 393\u001b[0m \u001b[38;5;28;01mreturn\u001b[39;00m \u001b[38;5;28;43msuper\u001b[39;49m\u001b[43m(\u001b[49m\u001b[43m)\u001b[49m\u001b[38;5;241;43m.\u001b[39;49m\u001b[43mstep\u001b[49m\u001b[43m(\u001b[49m\u001b[43maction\u001b[49m\u001b[43m)\u001b[49m\n",
      "File \u001b[1;32mc:\\Users\\xuanf\\miniconda3\\envs\\policy-eval\\Lib\\site-packages\\gymnasium\\core.py:322\u001b[0m, in \u001b[0;36mWrapper.step\u001b[1;34m(self, action)\u001b[0m\n\u001b[0;32m    318\u001b[0m \u001b[38;5;28;01mdef\u001b[39;00m \u001b[38;5;21mstep\u001b[39m(\n\u001b[0;32m    319\u001b[0m     \u001b[38;5;28mself\u001b[39m, action: WrapperActType\n\u001b[0;32m    320\u001b[0m ) \u001b[38;5;241m-\u001b[39m\u001b[38;5;241m>\u001b[39m \u001b[38;5;28mtuple\u001b[39m[WrapperObsType, SupportsFloat, \u001b[38;5;28mbool\u001b[39m, \u001b[38;5;28mbool\u001b[39m, \u001b[38;5;28mdict\u001b[39m[\u001b[38;5;28mstr\u001b[39m, Any]]:\n\u001b[0;32m    321\u001b[0m \u001b[38;5;250m    \u001b[39m\u001b[38;5;124;03m\"\"\"Uses the :meth:`step` of the :attr:`env` that can be overwritten to change the returned data.\"\"\"\u001b[39;00m\n\u001b[1;32m--> 322\u001b[0m     \u001b[38;5;28;01mreturn\u001b[39;00m \u001b[38;5;28;43mself\u001b[39;49m\u001b[38;5;241;43m.\u001b[39;49m\u001b[43menv\u001b[49m\u001b[38;5;241;43m.\u001b[39;49m\u001b[43mstep\u001b[49m\u001b[43m(\u001b[49m\u001b[43maction\u001b[49m\u001b[43m)\u001b[49m\n",
      "File \u001b[1;32mc:\\Users\\xuanf\\miniconda3\\envs\\policy-eval\\Lib\\site-packages\\gymnasium\\wrappers\\common.py:283\u001b[0m, in \u001b[0;36mPassiveEnvChecker.step\u001b[1;34m(self, action)\u001b[0m\n\u001b[0;32m    281\u001b[0m \u001b[38;5;28;01mif\u001b[39;00m \u001b[38;5;28mself\u001b[39m\u001b[38;5;241m.\u001b[39mchecked_step \u001b[38;5;129;01mis\u001b[39;00m \u001b[38;5;28;01mFalse\u001b[39;00m:\n\u001b[0;32m    282\u001b[0m     \u001b[38;5;28mself\u001b[39m\u001b[38;5;241m.\u001b[39mchecked_step \u001b[38;5;241m=\u001b[39m \u001b[38;5;28;01mTrue\u001b[39;00m\n\u001b[1;32m--> 283\u001b[0m     \u001b[38;5;28;01mreturn\u001b[39;00m \u001b[43menv_step_passive_checker\u001b[49m\u001b[43m(\u001b[49m\u001b[38;5;28;43mself\u001b[39;49m\u001b[38;5;241;43m.\u001b[39;49m\u001b[43menv\u001b[49m\u001b[43m,\u001b[49m\u001b[43m \u001b[49m\u001b[43maction\u001b[49m\u001b[43m)\u001b[49m\n\u001b[0;32m    284\u001b[0m \u001b[38;5;28;01melse\u001b[39;00m:\n\u001b[0;32m    285\u001b[0m     \u001b[38;5;28;01mreturn\u001b[39;00m \u001b[38;5;28mself\u001b[39m\u001b[38;5;241m.\u001b[39menv\u001b[38;5;241m.\u001b[39mstep(action)\n",
      "File \u001b[1;32mc:\\Users\\xuanf\\miniconda3\\envs\\policy-eval\\Lib\\site-packages\\gymnasium\\utils\\passive_env_checker.py:207\u001b[0m, in \u001b[0;36menv_step_passive_checker\u001b[1;34m(env, action)\u001b[0m\n\u001b[0;32m    205\u001b[0m \u001b[38;5;250m\u001b[39m\u001b[38;5;124;03m\"\"\"A passive check for the environment step, investigating the returning data then returning the data unchanged.\"\"\"\u001b[39;00m\n\u001b[0;32m    206\u001b[0m \u001b[38;5;66;03m# We don't check the action as for some environments then out-of-bounds values can be given\u001b[39;00m\n\u001b[1;32m--> 207\u001b[0m result \u001b[38;5;241m=\u001b[39m \u001b[43menv\u001b[49m\u001b[38;5;241;43m.\u001b[39;49m\u001b[43mstep\u001b[49m\u001b[43m(\u001b[49m\u001b[43maction\u001b[49m\u001b[43m)\u001b[49m\n\u001b[0;32m    208\u001b[0m \u001b[38;5;28;01massert\u001b[39;00m \u001b[38;5;28misinstance\u001b[39m(\n\u001b[0;32m    209\u001b[0m     result, \u001b[38;5;28mtuple\u001b[39m\n\u001b[0;32m    210\u001b[0m ), \u001b[38;5;124mf\u001b[39m\u001b[38;5;124m\"\u001b[39m\u001b[38;5;124mExpects step result to be a tuple, actual type: \u001b[39m\u001b[38;5;132;01m{\u001b[39;00m\u001b[38;5;28mtype\u001b[39m(result)\u001b[38;5;132;01m}\u001b[39;00m\u001b[38;5;124m\"\u001b[39m\n\u001b[0;32m    211\u001b[0m \u001b[38;5;28;01mif\u001b[39;00m \u001b[38;5;28mlen\u001b[39m(result) \u001b[38;5;241m==\u001b[39m \u001b[38;5;241m4\u001b[39m:\n",
      "File \u001b[1;32mc:\\Users\\xuanf\\miniconda3\\envs\\policy-eval\\Lib\\site-packages\\gymnasium\\envs\\classic_control\\mountain_car.py:134\u001b[0m, in \u001b[0;36mMountainCarEnv.step\u001b[1;34m(self, action)\u001b[0m\n\u001b[0;32m    133\u001b[0m \u001b[38;5;28;01mdef\u001b[39;00m \u001b[38;5;21mstep\u001b[39m(\u001b[38;5;28mself\u001b[39m, action: \u001b[38;5;28mint\u001b[39m):\n\u001b[1;32m--> 134\u001b[0m     \u001b[38;5;28;01massert\u001b[39;00m \u001b[38;5;28mself\u001b[39m\u001b[38;5;241m.\u001b[39maction_space\u001b[38;5;241m.\u001b[39mcontains(\n\u001b[0;32m    135\u001b[0m         action\n\u001b[0;32m    136\u001b[0m     ), \u001b[38;5;124mf\u001b[39m\u001b[38;5;124m\"\u001b[39m\u001b[38;5;132;01m{\u001b[39;00maction\u001b[38;5;132;01m!r}\u001b[39;00m\u001b[38;5;124m (\u001b[39m\u001b[38;5;132;01m{\u001b[39;00m\u001b[38;5;28mtype\u001b[39m(action)\u001b[38;5;132;01m}\u001b[39;00m\u001b[38;5;124m) invalid\u001b[39m\u001b[38;5;124m\"\u001b[39m\n\u001b[0;32m    138\u001b[0m     position, velocity \u001b[38;5;241m=\u001b[39m \u001b[38;5;28mself\u001b[39m\u001b[38;5;241m.\u001b[39mstate\n\u001b[0;32m    139\u001b[0m     velocity \u001b[38;5;241m+\u001b[39m\u001b[38;5;241m=\u001b[39m (action \u001b[38;5;241m-\u001b[39m \u001b[38;5;241m1\u001b[39m) \u001b[38;5;241m*\u001b[39m \u001b[38;5;28mself\u001b[39m\u001b[38;5;241m.\u001b[39mforce \u001b[38;5;241m+\u001b[39m math\u001b[38;5;241m.\u001b[39mcos(\u001b[38;5;241m3\u001b[39m \u001b[38;5;241m*\u001b[39m position) \u001b[38;5;241m*\u001b[39m (\u001b[38;5;241m-\u001b[39m\u001b[38;5;28mself\u001b[39m\u001b[38;5;241m.\u001b[39mgravity)\n",
      "\u001b[1;31mAssertionError\u001b[0m: (array(1, dtype=int64), None) (<class 'tuple'>) invalid"
     ]
    }
   ],
   "source": [
    "env.step(action)"
   ]
  },
  {
   "cell_type": "markdown",
   "metadata": {},
   "source": [
    "Mountain car\n"
   ]
  },
  {
   "cell_type": "code",
   "execution_count": 19,
   "metadata": {},
   "outputs": [],
   "source": [
    "# Mountain-Car-env.py\n",
    "import gymnasium as gym\n",
    "import numpy as np\n",
    "import matplotlib.pyplot as plt\n",
    "from tqdm import tqdm\n",
    "from stable_baselines3 import PPO\n",
    "\n",
    "model_PPO = PPO.load(\"ppo_mountaincar\")\n",
    "\n",
    "env_name = 'MountainCar-v0'\n",
    "gym.make(env_name)\n",
    "\n",
    "n_samples = 1000\n",
    "feature_dim = 5 # Example feature dimension\n",
    "repeat = 1\n",
    "gamma = 0.99\n",
    "num_grids = 6\n",
    "\n",
    "env = gym.make(env_name)\n",
    "env.reset()\n",
    "\n",
    "def policy_unif(s):\n",
    "  a = env.action_space.sample()\n",
    "  return a\n",
    "\n",
    "def policy_PPO(s):\n",
    "  action = model_PPO.predict(s)[0]\n",
    "  return action\n",
    "\n",
    "def rbf_random_fourier_features(state, action, feature_dim = feature_dim, length_scale=1.0):\n",
    "    np.random.seed(0)\n",
    "    state_array = np.array(state, dtype=np.float32).reshape(-1)\n",
    "    action_array = np.array([int(action)])\n",
    "    state_action = np.concatenate((state_array, action_array))\n",
    "    dim = state_action.shape[0]\n",
    "    \n",
    "    # Handle even/odd feature dimensions\n",
    "    if feature_dim % 2 == 0:\n",
    "        d_cos = d_sin = feature_dim // 2\n",
    "    else:\n",
    "        d_cos = (feature_dim + 1) // 2\n",
    "        d_sin = (feature_dim - 1) // 2\n",
    "    \n",
    "    omega = np.random.normal(scale=1.0/length_scale, size=(dim, d_cos))\n",
    "    bias = np.random.uniform(0, 2 * np.pi, size=d_cos)\n",
    "    z = state_action @ omega + bias\n",
    "    cos_features = np.cos(z)\n",
    "    sin_features = np.sin(z[:d_sin]) if d_sin > 0 else np.array([])\n",
    "    feature = np.sqrt(1.0 / feature_dim) * np.concatenate([cos_features, sin_features])\n",
    "    return feature\n",
    "\n",
    "def collect_trajectory(policy, feature_dim):\n",
    "    s0, _ = env.reset()\n",
    "    traj_list = [s0]\n",
    "    while True:\n",
    "        a0 = policy(s0)\n",
    "        phi_sa = rbf_random_fourier_features(s0, a0, feature_dim)\n",
    "        # traj_list.append(phi_sa)\n",
    "        s1, r0,  terminated, truncated, _ = env.step(a0)\n",
    "        traj_list.append(r0)\n",
    "        # traj_list.append(s1)\n",
    "        s0 = s1\n",
    "        if terminated or truncated:\n",
    "            break\n",
    "    # print(len(traj_list))\n",
    "    return traj_list  # removing the terminal state\n",
    "\n",
    "def collect_data(n, policy, feature_dim=feature_dim):\n",
    "    data = []\n",
    "    while len(data) < n:\n",
    "        trajectory = collect_trajectory(policy, feature_dim)\n",
    "        i = 0\n",
    "        while i <= len(trajectory)-3:\n",
    "            state = trajectory[i]\n",
    "            action = policy(state)\n",
    "            phi_sa = rbf_random_fourier_features(state, action, feature_dim)\n",
    "            reward = trajectory[i+2]\n",
    "            next_state = trajectory[i+3]\n",
    "            next_action = policy(next_state)\n",
    "            phi_sa_prime = rbf_random_fourier_features(next_state, next_action, feature_dim)\n",
    "            \n",
    "            data.append((phi_sa, reward, phi_sa_prime))\n",
    "            i += 3\n",
    "            if len(data) >= n:\n",
    "                break\n",
    "\n",
    "    return data[:n]  # Return exactly n samples as a single array\n",
    "\n",
    "def Q(state, action, theta,feature_dim=feature_dim):\n",
    "    phi_sa = rbf_random_fourier_features(state, action, feature_dim)\n",
    "    return np.dot(theta, phi_sa)\n",
    "\n",
    "def policy_eval_LSTD(theta_init,data, feature_dim=feature_dim, alpha=0.01):\n",
    "    '''Use TD(0) which converges to the solution of LSTD'''\n",
    "    theta_lstd = np.copy(theta_init)\n",
    "    for phi_sa, reward, phi_sa_prime in data:\n",
    "        Q_sa = np.dot(theta_lstd, phi_sa)\n",
    "        Q_sa_prime = np.dot(theta_lstd, phi_sa_prime)\n",
    "        td_error = reward + gamma * Q_sa_prime - Q_sa\n",
    "        theta_lstd += alpha * td_error * phi_sa\n",
    "    \n",
    "    # def Q(state, action):\n",
    "    #     phi_sa = rbf_random_fourier_features(state, action, feature_dim)\n",
    "    #     return np.dot(theta_lstd, phi_sa)\n",
    "    \n",
    "    return theta_lstd\n",
    "\n",
    "def policy_eval_BRM(theta_init, data,  feature_dim=feature_dim, learning_rate=0.1):\n",
    "    theta_BRM = np.copy(theta_init)\n",
    "    for phi_sa, reward, phi_sa_prime in data:\n",
    "        x_sa = phi_sa - gamma * phi_sa_prime\n",
    "        gradient = -2 * (reward - np.dot(x_sa, theta_BRM)) * x_sa\n",
    "        theta_BRM -= learning_rate * gradient\n",
    "        \n",
    "    # def Q(state, action):\n",
    "    #     phi_sa = rbf_random_fourier_features(state, action, feature_dim)\n",
    "    #     return np.dot(theta_BRM, phi_sa)\n",
    "    \n",
    "    return theta_BRM\n",
    "\n",
    "def index_to_state_action(i, n_grid_points=num_grids):\n",
    "    \"\"\"\n",
    "    Maps index i (0 to 3*n_grid_points^2-1) to a state-action pair\n",
    "    \n",
    "    Returns:\n",
    "    - state: np.array of shape (2,)\n",
    "    - action: int (0, 1, or 2)\n",
    "    \"\"\"\n",
    "    # State bounds\n",
    "    state_bounds = [\n",
    "        [-1.2, 0.6],     # position\n",
    "        [-0.07, 0.07]    # velocity\n",
    "    ]\n",
    "    \n",
    "    # Total states per dimension\n",
    "    n_states = n_grid_points**2\n",
    "    \n",
    "    # Determine action (0 for first third indices, 1 for second third, 2 for last third)\n",
    "    action = i // n_states\n",
    "    \n",
    "    # Get state index (map back to state space)\n",
    "    state_idx = i % n_states\n",
    "    \n",
    "    # Convert to grid coordinates\n",
    "    idx_2 = state_idx % n_grid_points\n",
    "    idx_1 = state_idx // n_grid_points\n",
    "    \n",
    "    # Convert grid coordinates to actual state values\n",
    "    state = np.array([\n",
    "        np.linspace(state_bounds[0][0], state_bounds[0][1], n_grid_points)[idx_1],\n",
    "        np.linspace(state_bounds[1][0], state_bounds[1][1], n_grid_points)[idx_2]\n",
    "    ])\n",
    "    \n",
    "    return state, action\n",
    "\n",
    "def grid_evaluation_pairs(policy, num_grids = num_grids, n_episodes=100, max_steps=200):\n",
    "    \"\"\"\n",
    "    Estimates Q values using given policy for trajectories\n",
    "    \n",
    "    Args:\n",
    "        policy: Function that takes state and returns action\n",
    "        num_grids: Number of grid points per dimension\n",
    "        n_episodes: Number of episodes per state-action pair\n",
    "        max_steps: Maximum steps per episode\n",
    "        \n",
    "    Returns:\n",
    "        Q_vector: Estimated Q-values for each state-action pair\n",
    "    \"\"\"\n",
    "    env = gym.make('MountainCar-v0')\n",
    "    total_pairs = 3 * num_grids**2\n",
    "    Q_vector = np.zeros(total_pairs)\n",
    "    \n",
    "    for i in tqdm(range(total_pairs)):\n",
    "        state, action = index_to_state_action(i, num_grids)\n",
    "        returns = []\n",
    "        \n",
    "        for _ in range(n_episodes):\n",
    "            env.reset()\n",
    "            env.unwrapped.s = state\n",
    "            \n",
    "            # Take specified initial action\n",
    "            next_state, reward, term, trunc, _ = env.step(action)\n",
    "            total_return = reward\n",
    "            \n",
    "            # Continue with policy-chosen actions\n",
    "            discount = gamma\n",
    "            curr_state = next_state\n",
    "            steps = 0\n",
    "            \n",
    "            while not (term or trunc) and steps < max_steps:\n",
    "                # Use policy to select action\n",
    "                curr_action = policy(curr_state)\n",
    "                curr_state, r, term, trunc, _ = env.step(curr_action)\n",
    "                total_return += discount * r\n",
    "                discount *= gamma\n",
    "                steps += 1\n",
    "                \n",
    "                if discount < 1e-10:\n",
    "                    break\n",
    "            if steps != 199:\n",
    "                print(steps)      \n",
    "            returns.append(total_return)\n",
    "            \n",
    "        Q_vector[i] = np.mean(returns)\n",
    "    \n",
    "    env.close()\n",
    "    return Q_vector\n",
    "\n",
    "def loss_policy_evaluation(theta, Q_real, num_grids = num_grids):\n",
    "    loss = 0 \n",
    "    total_pairs = 2 * num_grids**4\n",
    "    for i in range(total_pairs):\n",
    "        state, action = index_to_state_action(i, num_grids)\n",
    "        Q_est_i = Q(state, action, theta)\n",
    "        loss += (Q_est_i- Q_real[i])**2\n",
    "    loss /= total_pairs\n",
    "    return loss"
   ]
  },
  {
   "cell_type": "code",
   "execution_count": 16,
   "metadata": {},
   "outputs": [
    {
     "data": {
      "text/plain": [
       "201"
      ]
     },
     "execution_count": 16,
     "metadata": {},
     "output_type": "execute_result"
    }
   ],
   "source": [
    "len(collect_trajectory(policy_PPO, feature_dim))"
   ]
  },
  {
   "cell_type": "code",
   "execution_count": 20,
   "metadata": {},
   "outputs": [
    {
     "name": "stderr",
     "output_type": "stream",
     "text": [
      "100%|██████████| 108/108 [09:17<00:00,  5.16s/it]\n"
     ]
    }
   ],
   "source": [
    "Q_real = grid_evaluation_pairs(policy_PPO)\n",
    "np.save(f\"Q_function_Mountain_car_grid_6_gamma_0.99.npy\", Q_real)"
   ]
  },
  {
   "cell_type": "code",
   "execution_count": 3,
   "metadata": {},
   "outputs": [
    {
     "data": {
      "text/plain": [
       "array([-86.60203251, -86.60203251, -86.60203251, -86.60203251,\n",
       "       -86.60203251, -86.60203251, -86.60203251, -86.60203251,\n",
       "       -86.60203251, -86.60203251, -86.60203251, -86.60203251,\n",
       "       -86.60203251, -86.60203251, -86.60203251, -86.60203251,\n",
       "       -86.60203251, -86.60203251, -86.60203251, -86.60203251,\n",
       "       -86.60203251, -86.60203251, -86.60203251, -86.60203251,\n",
       "       -86.60203251, -86.60203251, -86.60203251, -86.60203251,\n",
       "       -86.60203251, -86.60203251, -86.60203251, -86.60203251,\n",
       "       -86.60203251, -86.60203251, -86.60203251, -86.60203251,\n",
       "       -86.60203251, -86.60203251, -86.60203251, -86.60203251,\n",
       "       -86.60203251, -86.60203251, -86.60203251, -86.60203251,\n",
       "       -86.60203251, -86.60203251, -86.60203251, -86.60203251,\n",
       "       -86.60203251, -86.60203251, -86.60203251, -86.60203251,\n",
       "       -86.60203251, -86.60203251, -86.60203251, -86.60203251,\n",
       "       -86.60203251, -86.60203251, -86.60203251, -86.60203251,\n",
       "       -86.60203251, -86.60203251, -86.60203251, -86.60203251,\n",
       "       -86.60203251, -86.60203251, -86.60203251, -86.60203251,\n",
       "       -86.60203251, -86.60203251, -86.60203251, -86.60203251,\n",
       "       -86.60203251, -86.60203251, -86.60203251, -86.60203251,\n",
       "       -86.60203251, -86.60203251, -86.60203251, -86.60203251,\n",
       "       -86.60203251, -86.60203251, -86.60203251, -86.60203251,\n",
       "       -86.60203251, -86.60203251, -86.60203251, -86.60203251,\n",
       "       -86.60203251, -86.60203251, -86.60203251, -86.60203251,\n",
       "       -86.60203251, -86.60203251, -86.60203251, -86.60203251,\n",
       "       -86.60203251, -86.60203251, -86.60203251, -86.60203251,\n",
       "       -86.60203251, -86.60203251, -86.60203251, -86.60203251,\n",
       "       -86.60203251, -86.60203251, -86.60203251, -86.60203251])"
      ]
     },
     "execution_count": 3,
     "metadata": {},
     "output_type": "execute_result"
    }
   ],
   "source": [
    "Q_real "
   ]
  },
  {
   "cell_type": "markdown",
   "metadata": {},
   "source": [
    "### Frozen lake"
   ]
  },
  {
   "cell_type": "code",
   "execution_count": null,
   "metadata": {},
   "outputs": [],
   "source": [
    "import gymnasium as gym\n",
    "env = gym.make('FrozenLake-v1', desc=None, map_name=\"4x4\", is_slippery=True)\n",
    "env.reset()"
   ]
  },
  {
   "cell_type": "code",
   "execution_count": 3,
   "metadata": {},
   "outputs": [],
   "source": [
    "def policy_unif(s):\n",
    "  a = env.action_space.sample()\n",
    "  return a"
   ]
  },
  {
   "cell_type": "code",
   "execution_count": null,
   "metadata": {},
   "outputs": [],
   "source": [
    "observation, reward, terminated, truncated, info = env.step(env.action_space.sample())\n",
    "print(observation)\n",
    "print(reward)\n",
    "print(terminated)\n",
    "print(truncated)\n",
    "print(info)"
   ]
  },
  {
   "cell_type": "code",
   "execution_count": null,
   "metadata": {},
   "outputs": [],
   "source": [
    "n_states = env.observation_space.n\n",
    "n_actions = env.action_space.n\n",
    "    \n",
    "for state in range(n_states):\n",
    "    for action in range(n_actions):\n",
    "        print(f\"State: {state}, Action: {action}\")"
   ]
  },
  {
   "cell_type": "code",
   "execution_count": 4,
   "metadata": {},
   "outputs": [],
   "source": [
    "def collect_trajectory(policy):\n",
    "  s0 = env.reset()\n",
    "  traj_list = [s0]\n",
    "  while True:\n",
    "    a0 = policy(s0)\n",
    "    traj_list.append(a0)\n",
    "    s1, r0, terminated, truncated, _ = env.step(a0)\n",
    "    traj_list.append(r0)\n",
    "    traj_list.append(s1)\n",
    "    s0 = s1\n",
    "    if terminated or truncated:\n",
    "      break\n",
    "  return traj_list[:-1] #removing the terminal state\n",
    "#Q2 solution\n",
    "def compute_return(traj,gamma=0.99):\n",
    "  if traj==[]:\n",
    "    return 0\n",
    "  else:\n",
    "    return traj[2]+gamma*compute_return(traj[3:],gamma)\n"
   ]
  },
  {
   "cell_type": "code",
   "execution_count": null,
   "metadata": {},
   "outputs": [],
   "source": [
    "#Q3 solution:\n",
    "import matplotlib.pyplot as plt\n",
    "import numpy as np\n",
    "\n",
    "#100 returns\n",
    "returns=[]\n",
    "for i in range(150):\n",
    "  returns.append(compute_return(collect_trajectory(policy_unif)))\n",
    "\n",
    "#plotting\n",
    "plt.hist(returns, bins = 20)\n",
    "\n",
    "#estimated return\n",
    "value = np.mean(returns)\n",
    "from scipy import stats\n",
    "stderr = 2 * stats.sem(returns)\n",
    "print('The estimated return is ', round(value, 2), '+/-', round(stderr, 2))"
   ]
  }
 ],
 "metadata": {
  "kernelspec": {
   "display_name": "policy-eval",
   "language": "python",
   "name": "python3"
  },
  "language_info": {
   "codemirror_mode": {
    "name": "ipython",
    "version": 3
   },
   "file_extension": ".py",
   "mimetype": "text/x-python",
   "name": "python",
   "nbconvert_exporter": "python",
   "pygments_lexer": "ipython3",
   "version": "3.12.7"
  }
 },
 "nbformat": 4,
 "nbformat_minor": 2
}
