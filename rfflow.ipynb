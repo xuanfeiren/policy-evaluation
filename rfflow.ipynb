{
 "cells": [
  {
   "cell_type": "markdown",
   "metadata": {},
   "source": [
    "### RL - linear function approximation with random fourier features workflow\n",
    "In this document I'd like to show what's the problem in my code and clean my thoughts. The environment is CartPole-v1\n",
    "\n",
    "\n",
    "#### use Q learning with RFFs to learn a good policy\n",
    "The following is a codebase which use DQN to learn a good policy."
   ]
  },
  {
   "cell_type": "code",
   "execution_count": 3,
   "metadata": {},
   "outputs": [
    {
     "name": "stderr",
     "output_type": "stream",
     "text": [
      "c:\\Users\\xuanf\\miniconda3\\envs\\policy-eval\\Lib\\site-packages\\gymnasium\\envs\\registration.py:517: DeprecationWarning: \u001b[33mWARN: The environment CartPole-v0 is out of date. You should consider upgrading to version `v1`.\u001b[0m\n",
      "  logger.deprecation(\n"
     ]
    },
    {
     "data": {
      "text/plain": [
       "True"
      ]
     },
     "execution_count": 3,
     "metadata": {},
     "output_type": "execute_result"
    }
   ],
   "source": [
    "import gymnasium as gym\n",
    "import math\n",
    "import random\n",
    "import matplotlib\n",
    "import matplotlib.pyplot as plt\n",
    "from collections import namedtuple, deque\n",
    "from itertools import count\n",
    "\n",
    "import torch\n",
    "import torch.nn as nn\n",
    "import torch.optim as optim\n",
    "import torch.nn.functional as F\n",
    "\n",
    "env = gym.make(\"CartPole-v0\")\n",
    "\n",
    "# set up matplotlib\n",
    "is_ipython = 'inline' in matplotlib.get_backend()\n",
    "if is_ipython:\n",
    "    from IPython import display\n",
    "\n",
    "\n",
    "# if GPU is to be used\n",
    "device = torch.device(\n",
    "    \"cuda\" if torch.cuda.is_available() else\n",
    "    \"mps\" if torch.backends.mps.is_available() else\n",
    "    \"cpu\"\n",
    ")\n",
    "torch.cuda.is_available()"
   ]
  },
  {
   "cell_type": "code",
   "execution_count": 2,
   "metadata": {},
   "outputs": [
    {
     "ename": "KeyboardInterrupt",
     "evalue": "",
     "output_type": "error",
     "traceback": [
      "\u001b[1;31m---------------------------------------------------------------------------\u001b[0m",
      "\u001b[1;31mKeyboardInterrupt\u001b[0m                         Traceback (most recent call last)",
      "Cell \u001b[1;32mIn[2], line 190\u001b[0m\n\u001b[0;32m    186\u001b[0m optimize_model()\n\u001b[0;32m    188\u001b[0m \u001b[38;5;66;03m# Soft update of the target network's weights\u001b[39;00m\n\u001b[0;32m    189\u001b[0m \u001b[38;5;66;03m# θ′ ← τ θ + (1 −τ )θ′\u001b[39;00m\n\u001b[1;32m--> 190\u001b[0m target_net_state_dict \u001b[38;5;241m=\u001b[39m \u001b[43mtarget_net\u001b[49m\u001b[38;5;241;43m.\u001b[39;49m\u001b[43mstate_dict\u001b[49m\u001b[43m(\u001b[49m\u001b[43m)\u001b[49m\n\u001b[0;32m    191\u001b[0m policy_net_state_dict \u001b[38;5;241m=\u001b[39m policy_net\u001b[38;5;241m.\u001b[39mstate_dict()\n\u001b[0;32m    192\u001b[0m \u001b[38;5;28;01mfor\u001b[39;00m key \u001b[38;5;129;01min\u001b[39;00m policy_net_state_dict:\n",
      "File \u001b[1;32mc:\\Users\\xuanf\\miniconda3\\envs\\policy-eval\\Lib\\site-packages\\torch\\nn\\modules\\module.py:2145\u001b[0m, in \u001b[0;36mModule.state_dict\u001b[1;34m(self, destination, prefix, keep_vars, *args)\u001b[0m\n\u001b[0;32m   2141\u001b[0m     \u001b[38;5;241m.\u001b[39m\u001b[38;5;241m.\u001b[39m\u001b[38;5;241m.\u001b[39m\n\u001b[0;32m   2143\u001b[0m \u001b[38;5;66;03m# TODO: Change `*args` to `*` and remove the corresponding warning in docs when BC allows.\u001b[39;00m\n\u001b[0;32m   2144\u001b[0m \u001b[38;5;66;03m# Also remove the logic for arg parsing together.\u001b[39;00m\n\u001b[1;32m-> 2145\u001b[0m \u001b[38;5;28;01mdef\u001b[39;00m \u001b[38;5;21mstate_dict\u001b[39m(\u001b[38;5;28mself\u001b[39m, \u001b[38;5;241m*\u001b[39margs, destination\u001b[38;5;241m=\u001b[39m\u001b[38;5;28;01mNone\u001b[39;00m, prefix\u001b[38;5;241m=\u001b[39m\u001b[38;5;124m\"\u001b[39m\u001b[38;5;124m\"\u001b[39m, keep_vars\u001b[38;5;241m=\u001b[39m\u001b[38;5;28;01mFalse\u001b[39;00m):\n\u001b[0;32m   2146\u001b[0m \u001b[38;5;250m    \u001b[39m\u001b[38;5;124mr\u001b[39m\u001b[38;5;124;03m\"\"\"Return a dictionary containing references to the whole state of the module.\u001b[39;00m\n\u001b[0;32m   2147\u001b[0m \n\u001b[0;32m   2148\u001b[0m \u001b[38;5;124;03m    Both parameters and persistent buffers (e.g. running averages) are\u001b[39;00m\n\u001b[1;32m   (...)\u001b[0m\n\u001b[0;32m   2187\u001b[0m \n\u001b[0;32m   2188\u001b[0m \u001b[38;5;124;03m    \"\"\"\u001b[39;00m\n\u001b[0;32m   2189\u001b[0m     \u001b[38;5;66;03m# TODO: Remove `args` and the parsing logic when BC allows.\u001b[39;00m\n",
      "\u001b[1;31mKeyboardInterrupt\u001b[0m: "
     ]
    },
    {
     "data": {
      "text/plain": [
       "<Figure size 640x480 with 0 Axes>"
      ]
     },
     "metadata": {},
     "output_type": "display_data"
    }
   ],
   "source": [
    "Transition = namedtuple('Transition',\n",
    "                        ('state', 'action', 'next_state', 'reward'))\n",
    "\n",
    "\n",
    "class ReplayMemory(object):\n",
    "\n",
    "    def __init__(self, capacity):\n",
    "        self.memory = deque([], maxlen=capacity)\n",
    "\n",
    "    def push(self, *args):\n",
    "        \"\"\"Save a transition\"\"\"\n",
    "        self.memory.append(Transition(*args))\n",
    "\n",
    "    def sample(self, batch_size):\n",
    "        return random.sample(self.memory, batch_size)\n",
    "\n",
    "    def __len__(self):\n",
    "        return len(self.memory)\n",
    "class DQN(nn.Module):\n",
    "\n",
    "    def __init__(self, n_observations, n_actions):\n",
    "        super(DQN, self).__init__()\n",
    "        self.layer1 = nn.Linear(n_observations, 128)\n",
    "        self.layer2 = nn.Linear(128, 128)\n",
    "        self.layer3 = nn.Linear(128, n_actions)\n",
    "\n",
    "    # Called with either one element to determine next action, or a batch\n",
    "    # during optimization. Returns tensor([[left0exp,right0exp]...]).\n",
    "    def forward(self, x):\n",
    "        x = F.relu(self.layer1(x))\n",
    "        x = F.relu(self.layer2(x))\n",
    "        return self.layer3(x)\n",
    "# BATCH_SIZE is the number of transitions sampled from the replay buffer\n",
    "# GAMMA is the discount factor as mentioned in the previous section\n",
    "# EPS_START is the starting value of epsilon\n",
    "# EPS_END is the final value of epsilon\n",
    "# EPS_DECAY controls the rate of exponential decay of epsilon, higher means a slower decay\n",
    "# TAU is the update rate of the target network\n",
    "# LR is the learning rate of the ``AdamW`` optimizer\n",
    "BATCH_SIZE = 128\n",
    "GAMMA = 0.99\n",
    "EPS_START = 0.9\n",
    "EPS_END = 0.05\n",
    "EPS_DECAY = 1000\n",
    "TAU = 0.005\n",
    "LR = 1e-4\n",
    "\n",
    "# Get number of actions from gym action space\n",
    "n_actions = env.action_space.n\n",
    "# Get the number of state observations\n",
    "state, info = env.reset()\n",
    "n_observations = len(state)\n",
    "\n",
    "policy_net = DQN(n_observations, n_actions).to(device)\n",
    "target_net = DQN(n_observations, n_actions).to(device)\n",
    "target_net.load_state_dict(policy_net.state_dict())\n",
    "\n",
    "optimizer = optim.AdamW(policy_net.parameters(), lr=LR, amsgrad=True)\n",
    "memory = ReplayMemory(10000)\n",
    "\n",
    "\n",
    "steps_done = 0\n",
    "\n",
    "\n",
    "def select_action(state):\n",
    "    global steps_done\n",
    "    sample = random.random()\n",
    "    eps_threshold = EPS_END + (EPS_START - EPS_END) * \\\n",
    "        math.exp(-1. * steps_done / EPS_DECAY)\n",
    "    steps_done += 1\n",
    "    if sample > eps_threshold:\n",
    "        with torch.no_grad():\n",
    "            # t.max(1) will return the largest column value of each row.\n",
    "            # second column on max result is index of where max element was\n",
    "            # found, so we pick action with the larger expected reward.\n",
    "            return policy_net(state).max(1).indices.view(1, 1)\n",
    "    else:\n",
    "        return torch.tensor([[env.action_space.sample()]], device=device, dtype=torch.long)\n",
    "\n",
    "def policy_DQN(state):\n",
    "    if not isinstance(state, torch.Tensor):\n",
    "        state = torch.tensor(state, dtype=torch.float32, device=device).unsqueeze(0)\n",
    "    return policy_net(state).max(1).indices.view(1, 1)\n",
    "\n",
    "episode_durations = []\n",
    "\n",
    "\n",
    "def plot_durations(show_result=False):\n",
    "    plt.figure(1)\n",
    "    durations_t = torch.tensor(episode_durations, dtype=torch.float)\n",
    "    if show_result:\n",
    "        plt.title('Result')\n",
    "    else:\n",
    "        plt.clf()\n",
    "        plt.title('Training...')\n",
    "    plt.xlabel('Episode')\n",
    "    plt.ylabel('Duration')\n",
    "    plt.plot(durations_t.numpy())\n",
    "    # Take 100 episode averages and plot them too\n",
    "    if len(durations_t) >= 100:\n",
    "        means = durations_t.unfold(0, 100, 1).mean(1).view(-1)\n",
    "        means = torch.cat((torch.zeros(99), means))\n",
    "        plt.plot(means.numpy())\n",
    "\n",
    "    plt.pause(0.001)  # pause a bit so that plots are updated\n",
    "    if is_ipython:\n",
    "        if not show_result:\n",
    "            display.display(plt.gcf())\n",
    "            display.clear_output(wait=True)\n",
    "        else:\n",
    "            display.display(plt.gcf())\n",
    "def optimize_model():\n",
    "    if len(memory) < BATCH_SIZE:\n",
    "        return\n",
    "    transitions = memory.sample(BATCH_SIZE)\n",
    "    # Transpose the batch (see https://stackoverflow.com/a/19343/3343043 for\n",
    "    # detailed explanation). This converts batch-array of Transitions\n",
    "    # to Transition of batch-arrays.\n",
    "    batch = Transition(*zip(*transitions))\n",
    "\n",
    "    # Compute a mask of non-final states and concatenate the batch elements\n",
    "    # (a final state would've been the one after which simulation ended)\n",
    "    non_final_mask = torch.tensor(tuple(map(lambda s: s is not None,\n",
    "                                          batch.next_state)), device=device, dtype=torch.bool)\n",
    "    non_final_next_states = torch.cat([s for s in batch.next_state\n",
    "                                                if s is not None])\n",
    "    state_batch = torch.cat(batch.state)\n",
    "    action_batch = torch.cat(batch.action)\n",
    "    reward_batch = torch.cat(batch.reward)\n",
    "\n",
    "    # Compute Q(s_t, a) - the model computes Q(s_t), then we select the\n",
    "    # columns of actions taken. These are the actions which would've been taken\n",
    "    # for each batch state according to policy_net\n",
    "    state_action_values = policy_net(state_batch).gather(1, action_batch)\n",
    "\n",
    "    # Compute V(s_{t+1}) for all next states.\n",
    "    # Expected values of actions for non_final_next_states are computed based\n",
    "    # on the \"older\" target_net; selecting their best reward with max(1).values\n",
    "    # This is merged based on the mask, such that we'll have either the expected\n",
    "    # state value or 0 in case the state was final.\n",
    "    next_state_values = torch.zeros(BATCH_SIZE, device=device)\n",
    "    with torch.no_grad():\n",
    "        next_state_values[non_final_mask] = target_net(non_final_next_states).max(1).values #in dqn they use target_net\n",
    "    # Compute the expected Q values\n",
    "    expected_state_action_values = (next_state_values * GAMMA) + reward_batch\n",
    "\n",
    "    # Compute Huber loss\n",
    "    # criterion = nn.SmoothL1Loss()\n",
    "    criterion = nn.MSELoss()\n",
    "\n",
    "    loss = criterion(state_action_values, expected_state_action_values.unsqueeze(1))\n",
    "\n",
    "    # Optimize the model\n",
    "    optimizer.zero_grad()\n",
    "    loss.backward()\n",
    "    # In-place gradient clipping\n",
    "    torch.nn.utils.clip_grad_value_(policy_net.parameters(), 100)\n",
    "    optimizer.step()\n",
    "if torch.cuda.is_available() or torch.backends.mps.is_available():\n",
    "    num_episodes = 600\n",
    "else:\n",
    "    num_episodes = 50\n",
    "\n",
    "for i_episode in range(num_episodes):\n",
    "    # Initialize the environment and get its state\n",
    "    state, info = env.reset()\n",
    "    state = torch.tensor(state, dtype=torch.float32, device=device).unsqueeze(0)\n",
    "    for t in count():\n",
    "        action = select_action(state)\n",
    "        observation, reward, terminated, truncated, _ = env.step(action.item())\n",
    "        reward = torch.tensor([reward], device=device)\n",
    "        done = terminated or truncated\n",
    "\n",
    "        if terminated:\n",
    "            next_state = None\n",
    "        else:\n",
    "            next_state = torch.tensor(observation, dtype=torch.float32, device=device).unsqueeze(0)\n",
    "\n",
    "        # Store the transition in memory\n",
    "        memory.push(state, action, next_state, reward)\n",
    "\n",
    "        # Move to the next state\n",
    "        state = next_state\n",
    "\n",
    "        # Perform one step of the optimization (on the policy network)\n",
    "        optimize_model()\n",
    "\n",
    "        # Soft update of the target network's weights\n",
    "        # θ′ ← τ θ + (1 −τ )θ′\n",
    "        target_net_state_dict = target_net.state_dict()\n",
    "        policy_net_state_dict = policy_net.state_dict()\n",
    "        for key in policy_net_state_dict:\n",
    "            target_net_state_dict[key] = policy_net_state_dict[key]*TAU + target_net_state_dict[key]*(1-TAU)\n",
    "        target_net.load_state_dict(target_net_state_dict)\n",
    "\n",
    "        if done:\n",
    "            episode_durations.append(t + 1)\n",
    "            plot_durations()\n",
    "            break\n",
    "\n",
    "print('Complete')\n",
    "plot_durations(show_result=True)\n",
    "plt.ioff()\n",
    "plt.show()"
   ]
  },
  {
   "cell_type": "code",
   "execution_count": null,
   "metadata": {},
   "outputs": [
    {
     "name": "stdout",
     "output_type": "stream",
     "text": [
      "test the performance for policy:\n",
      "DQN policy: Episode 1 finished after 350 timesteps\n",
      "DQN policy: Episode 2 finished after 352 timesteps\n",
      "DQN policy: Episode 3 finished after 330 timesteps\n",
      "DQN policy: Episode 4 finished after 383 timesteps\n",
      "DQN policy: Episode 5 finished after 500 timesteps\n",
      "DQN policy: Episode 6 finished after 333 timesteps\n",
      "DQN policy: Episode 7 finished after 500 timesteps\n",
      "DQN policy: Episode 8 finished after 365 timesteps\n",
      "DQN policy: Episode 9 finished after 500 timesteps\n",
      "DQN policy: Episode 10 finished after 359 timesteps\n"
     ]
    }
   ],
   "source": [
    "num_episodes = 10\n",
    "print(\"test the performance for policy:\")\n",
    "\n",
    "for i_episode in range(num_episodes):\n",
    "    state, _ = env.reset()\n",
    "    for t in range(1, 10000):\n",
    "        action = policy_DQN(state)\n",
    "        state, reward, terminated, truncated, _ = env.step(action.item())\n",
    "        if terminated or truncated:\n",
    "            print(f\"DQN policy: Episode {i_episode + 1} finished after {t} timesteps\")\n",
    "            break"
   ]
  },
  {
   "cell_type": "markdown",
   "metadata": {},
   "source": [
    "First I tried to replace change DQNNet with RBFNet  (linear with random fourier features), the convergence is very slow, at that time I give up using RFFs."
   ]
  },
  {
   "cell_type": "code",
   "execution_count": null,
   "metadata": {},
   "outputs": [
    {
     "name": "stdout",
     "output_type": "stream",
     "text": [
      "Complete\n"
     ]
    },
    {
     "data": {
      "image/png": "[encoded data removed]",
      "text/plain": [
       "<Figure size 640x480 with 1 Axes>"
      ]
     },
     "metadata": {},
     "output_type": "display_data"
    },
    {
     "data": {
      "text/plain": [
       "<Figure size 640x480 with 0 Axes>"
      ]
     },
     "metadata": {},
     "output_type": "display_data"
    },
    {
     "data": {
      "text/plain": [
       "<Figure size 640x480 with 0 Axes>"
      ]
     },
     "metadata": {},
     "output_type": "display_data"
    }
   ],
   "source": [
    "from sklearn.kernel_approximation import RBFSampler\n",
    "class RBFNet(nn.Module):\n",
    "    def __init__(self, input_size, output_size):\n",
    "        super().__init__()\n",
    "        self.n_components = 256\n",
    "        self.linear = nn.Linear(self.n_components, output_size)\n",
    "        self.rbf_feature = RBFSampler(gamma=1, random_state=1, n_components=self.n_components)\n",
    "        self.device = device\n",
    "        \n",
    "    def forward(self, x):\n",
    "        # Convert to numpy and ensure 2D\n",
    "        if x.dim() == 1:\n",
    "            x = x.unsqueeze(0)  # Add batch dimension if single sample\n",
    "        x_np = x.cpu().numpy()\n",
    "        \n",
    "        # Transform features\n",
    "        feature_np = self.rbf_feature.fit_transform(x_np)\n",
    "        feature = torch.tensor(feature_np, dtype=torch.float).to(self.device)\n",
    "        output = self.linear(feature)\n",
    "        return output\n",
    "        \n",
    "    def init(self):\n",
    "        for layer in self.modules():\n",
    "            if isinstance(layer, nn.Linear):\n",
    "                nn.init.xavier_uniform_(layer.weight)\n",
    "BATCH_SIZE = 128\n",
    "GAMMA = 0.99\n",
    "EPS_START = 0.9\n",
    "EPS_END = 0.05\n",
    "EPS_DECAY = 1000\n",
    "TAU = 0.005\n",
    "LR = 1e-4\n",
    "\n",
    "# Get number of actions from gym action space\n",
    "n_actions = env.action_space.n\n",
    "# Get the number of state observations\n",
    "state, info = env.reset()\n",
    "n_observations = len(state)\n",
    "\n",
    "policy_net_linear = RBFNet(n_observations, n_actions).to(device)\n",
    "target_net_linear = RBFNet(n_observations, n_actions).to(device)\n",
    "target_net_linear.load_state_dict(policy_net_linear.state_dict())\n",
    "\n",
    "optimizer = optim.AdamW(policy_net_linear.parameters(), lr=LR, amsgrad=True)\n",
    "memory = ReplayMemory(10000)\n",
    "\n",
    "\n",
    "steps_done = 0\n",
    "\n",
    "\n",
    "def select_action(state):\n",
    "    global steps_done\n",
    "    sample = random.random()\n",
    "    eps_threshold = EPS_END + (EPS_START - EPS_END) * \\\n",
    "        math.exp(-1. * steps_done / EPS_DECAY)\n",
    "    steps_done += 1\n",
    "    if sample > eps_threshold:\n",
    "        with torch.no_grad():\n",
    "            # t.max(1) will return the largest column value of each row.\n",
    "            # second column on max result is index of where max element was\n",
    "            # found, so we pick action with the larger expected reward.\n",
    "            return policy_net_linear(state).max(1).indices.view(1, 1)\n",
    "    else:\n",
    "        return torch.tensor([[env.action_space.sample()]], device=device, dtype=torch.long)\n",
    "\n",
    "def policy_linear(state):\n",
    "    if not isinstance(state, torch.Tensor):\n",
    "        state = torch.tensor(state, dtype=torch.float32, device=device).unsqueeze(0)\n",
    "    return policy_net_linear(state).max(1).indices.view(1, 1)\n",
    "\n",
    "episode_durations = []\n",
    "\n",
    "\n",
    "def plot_durations(show_result=False):\n",
    "    plt.figure(1)\n",
    "    durations_t = torch.tensor(episode_durations, dtype=torch.float)\n",
    "    if show_result:\n",
    "        plt.title('Result')\n",
    "    else:\n",
    "        plt.clf()\n",
    "        plt.title('Training...')\n",
    "    plt.xlabel('Episode')\n",
    "    plt.ylabel('Duration')\n",
    "    plt.plot(durations_t.numpy())\n",
    "    # Take 100 episode averages and plot them too\n",
    "    if len(durations_t) >= 100:\n",
    "        means = durations_t.unfold(0, 100, 1).mean(1).view(-1)\n",
    "        means = torch.cat((torch.zeros(99), means))\n",
    "        plt.plot(means.numpy())\n",
    "\n",
    "    plt.pause(0.001)  # pause a bit so that plots are updated\n",
    "    if is_ipython:\n",
    "        if not show_result:\n",
    "            display.display(plt.gcf())\n",
    "            display.clear_output(wait=True)\n",
    "        else:\n",
    "            display.display(plt.gcf())\n",
    "def optimize_model():\n",
    "    if len(memory) < BATCH_SIZE:\n",
    "        return\n",
    "    transitions = memory.sample(BATCH_SIZE)\n",
    "    # Transpose the batch (see https://stackoverflow.com/a/19343/3343043 for\n",
    "    # detailed explanation). This converts batch-array of Transitions\n",
    "    # to Transition of batch-arrays.\n",
    "    batch = Transition(*zip(*transitions))\n",
    "\n",
    "    # Compute a mask of non-final states and concatenate the batch elements\n",
    "    # (a final state would've been the one after which simulation ended)\n",
    "    non_final_mask = torch.tensor(tuple(map(lambda s: s is not None,\n",
    "                                          batch.next_state)), device=device, dtype=torch.bool)\n",
    "    non_final_next_states = torch.cat([s for s in batch.next_state\n",
    "                                                if s is not None])\n",
    "    state_batch = torch.cat(batch.state)\n",
    "    action_batch = torch.cat(batch.action)\n",
    "    reward_batch = torch.cat(batch.reward)\n",
    "    state_action_values = policy_net_linear(state_batch).gather(1, action_batch)\n",
    "\n",
    "    next_state_values = torch.zeros(BATCH_SIZE, device=device)\n",
    "    with torch.no_grad():\n",
    "        next_state_values[non_final_mask] = target_net_linear(non_final_next_states).max(1).values #in dqn they use target_net\n",
    "    # Compute the expected Q values\n",
    "    expected_state_action_values = (next_state_values * GAMMA) + reward_batch\n",
    "\n",
    "    # Compute Huber loss\n",
    "    # criterion = nn.SmoothL1Loss()\n",
    "    criterion = nn.MSELoss()\n",
    "\n",
    "    loss = criterion(state_action_values, expected_state_action_values.unsqueeze(1))\n",
    "\n",
    "    # Optimize the model\n",
    "    optimizer.zero_grad()\n",
    "    loss.backward()\n",
    "    # In-place gradient clipping\n",
    "    torch.nn.utils.clip_grad_value_(policy_net_linear.parameters(), 100)\n",
    "    optimizer.step()\n",
    "if torch.cuda.is_available() or torch.backends.mps.is_available():\n",
    "    num_episodes = 6000\n",
    "else:\n",
    "    num_episodes = 50\n",
    "\n",
    "for i_episode in range(num_episodes):\n",
    "    # Initialize the environment and get its state\n",
    "    state, info = env.reset()\n",
    "    state = torch.tensor(state, dtype=torch.float32, device=device).unsqueeze(0)\n",
    "    for t in count():\n",
    "        action = select_action(state)\n",
    "        observation, reward, terminated, truncated, _ = env.step(action.item())\n",
    "        reward = torch.tensor([reward], device=device)\n",
    "        done = terminated or truncated\n",
    "\n",
    "        if terminated:\n",
    "            next_state = None\n",
    "        else:\n",
    "            next_state = torch.tensor(observation, dtype=torch.float32, device=device).unsqueeze(0)\n",
    "\n",
    "        # Store the transition in memory\n",
    "        memory.push(state, action, next_state, reward)\n",
    "\n",
    "        # Move to the next state\n",
    "        state = next_state\n",
    "\n",
    "        # Perform one step of the optimization (on the policy network)\n",
    "        optimize_model()\n",
    "\n",
    "        # Soft update of the target network's weights\n",
    "        # θ′ ← τ θ + (1 −τ )θ′\n",
    "        target_net_state_dict = target_net_linear.state_dict()\n",
    "        policy_net_state_dict = policy_net_linear.state_dict()\n",
    "        for key in policy_net_state_dict:\n",
    "            target_net_state_dict[key] = policy_net_state_dict[key]*TAU + target_net_state_dict[key]*(1-TAU)\n",
    "        target_net_linear.load_state_dict(target_net_state_dict)\n",
    "\n",
    "        if done:\n",
    "            episode_durations.append(t + 1)\n",
    "            plot_durations()\n",
    "            break\n",
    "\n",
    "print('Complete')\n",
    "plot_durations(show_result=True)\n",
    "plt.ioff()\n",
    "plt.show()"
   ]
  },
  {
   "cell_type": "code",
   "execution_count": null,
   "metadata": {},
   "outputs": [
    {
     "name": "stdout",
     "output_type": "stream",
     "text": [
      "test the performance for policy:\n",
      "DQN policy: Episode 1 finished after 92 timesteps\n",
      "DQN policy: Episode 2 finished after 92 timesteps\n",
      "DQN policy: Episode 3 finished after 61 timesteps\n",
      "DQN policy: Episode 4 finished after 106 timesteps\n",
      "DQN policy: Episode 5 finished after 84 timesteps\n",
      "DQN policy: Episode 6 finished after 56 timesteps\n",
      "DQN policy: Episode 7 finished after 155 timesteps\n",
      "DQN policy: Episode 8 finished after 49 timesteps\n",
      "DQN policy: Episode 9 finished after 126 timesteps\n",
      "DQN policy: Episode 10 finished after 106 timesteps\n"
     ]
    }
   ],
   "source": [
    "num_episodes = 10\n",
    "print(\"test the performance for policy:\")\n",
    "\n",
    "for i_episode in range(num_episodes):\n",
    "    state, _ = env.reset()\n",
    "    for t in range(1, 10000):\n",
    "        action = policy_linear(state)\n",
    "        state, reward, terminated, truncated, _ = env.step(action.item())\n",
    "        if terminated or truncated:\n",
    "            print(f\"DQN policy: Episode {i_episode + 1} finished after {t} timesteps\")\n",
    "            break"
   ]
  },
  {
   "cell_type": "markdown",
   "metadata": {},
   "source": [
    "But using this code from you I can make things very fast and the results are good."
   ]
  },
  {
   "cell_type": "code",
   "execution_count": null,
   "metadata": {},
   "outputs": [
    {
     "name": "stderr",
     "output_type": "stream",
     "text": [
      "c:\\Users\\xuanf\\miniconda3\\envs\\policy-eval\\Lib\\site-packages\\gymnasium\\envs\\registration.py:517: DeprecationWarning: \u001b[33mWARN: The environment CartPole-v0 is out of date. You should consider upgrading to version `v1`.\u001b[0m\n",
      "  logger.deprecation(\n"
     ]
    },
    {
     "name": "stdout",
     "output_type": "stream",
     "text": [
      "cuda\n",
      "\n",
      "Run 1/1\n",
      "Training MLP Network...\n"
     ]
    },
    {
     "name": "stderr",
     "output_type": "stream",
     "text": [
      "  0%|          | 5/2000 [00:00<00:50, 39.65it/s]"
     ]
    },
    {
     "name": "stdout",
     "output_type": "stream",
     "text": [
      "Episode 0, Average Score: 23.00\n"
     ]
    },
    {
     "name": "stderr",
     "output_type": "stream",
     "text": [
      "  5%|▌         | 101/2000 [00:18<14:21,  2.20it/s]"
     ]
    },
    {
     "name": "stdout",
     "output_type": "stream",
     "text": [
      "Episode 100, Average Score: 64.89\n"
     ]
    },
    {
     "name": "stderr",
     "output_type": "stream",
     "text": [
      " 10%|█         | 201/2000 [01:04<15:47,  1.90it/s]"
     ]
    },
    {
     "name": "stdout",
     "output_type": "stream",
     "text": [
      "Episode 200, Average Score: 176.71\n"
     ]
    },
    {
     "name": "stderr",
     "output_type": "stream",
     "text": [
      " 15%|█▌        | 301/2000 [01:54<16:39,  1.70it/s]"
     ]
    },
    {
     "name": "stdout",
     "output_type": "stream",
     "text": [
      "Episode 300, Average Score: 186.22\n"
     ]
    },
    {
     "name": "stderr",
     "output_type": "stream",
     "text": [
      " 20%|██        | 401/2000 [02:50<15:00,  1.78it/s]"
     ]
    },
    {
     "name": "stdout",
     "output_type": "stream",
     "text": [
      "Episode 400, Average Score: 195.15\n"
     ]
    },
    {
     "name": "stderr",
     "output_type": "stream",
     "text": [
      " 25%|██▌       | 503/2000 [03:43<04:28,  5.57it/s]"
     ]
    },
    {
     "name": "stdout",
     "output_type": "stream",
     "text": [
      "Episode 500, Average Score: 190.83\n"
     ]
    },
    {
     "name": "stderr",
     "output_type": "stream",
     "text": [
      " 30%|███       | 601/2000 [04:33<11:15,  2.07it/s]"
     ]
    },
    {
     "name": "stdout",
     "output_type": "stream",
     "text": [
      "Episode 600, Average Score: 192.90\n"
     ]
    },
    {
     "name": "stderr",
     "output_type": "stream",
     "text": [
      " 35%|███▌      | 701/2000 [05:22<10:22,  2.09it/s]"
     ]
    },
    {
     "name": "stdout",
     "output_type": "stream",
     "text": [
      "Episode 700, Average Score: 197.92\n"
     ]
    },
    {
     "name": "stderr",
     "output_type": "stream",
     "text": [
      " 40%|████      | 801/2000 [06:10<10:04,  1.98it/s]"
     ]
    },
    {
     "name": "stdout",
     "output_type": "stream",
     "text": [
      "Episode 800, Average Score: 199.81\n"
     ]
    },
    {
     "name": "stderr",
     "output_type": "stream",
     "text": [
      " 45%|████▌     | 901/2000 [06:56<08:41,  2.11it/s]"
     ]
    },
    {
     "name": "stdout",
     "output_type": "stream",
     "text": [
      "Episode 900, Average Score: 195.98\n"
     ]
    },
    {
     "name": "stderr",
     "output_type": "stream",
     "text": [
      " 50%|█████     | 1001/2000 [07:41<06:53,  2.42it/s]"
     ]
    },
    {
     "name": "stdout",
     "output_type": "stream",
     "text": [
      "Episode 1000, Average Score: 199.11\n"
     ]
    },
    {
     "name": "stderr",
     "output_type": "stream",
     "text": [
      " 55%|█████▌    | 1101/2000 [08:24<06:09,  2.43it/s]"
     ]
    },
    {
     "name": "stdout",
     "output_type": "stream",
     "text": [
      "Episode 1100, Average Score: 188.68\n"
     ]
    },
    {
     "name": "stderr",
     "output_type": "stream",
     "text": [
      " 60%|██████    | 1201/2000 [09:07<05:25,  2.45it/s]"
     ]
    },
    {
     "name": "stdout",
     "output_type": "stream",
     "text": [
      "Episode 1200, Average Score: 189.56\n"
     ]
    },
    {
     "name": "stderr",
     "output_type": "stream",
     "text": [
      " 65%|██████▌   | 1301/2000 [09:52<05:25,  2.15it/s]"
     ]
    },
    {
     "name": "stdout",
     "output_type": "stream",
     "text": [
      "Episode 1300, Average Score: 196.97\n"
     ]
    },
    {
     "name": "stderr",
     "output_type": "stream",
     "text": [
      " 70%|███████   | 1401/2000 [10:39<03:18,  3.02it/s]"
     ]
    },
    {
     "name": "stdout",
     "output_type": "stream",
     "text": [
      "Episode 1400, Average Score: 195.79\n"
     ]
    },
    {
     "name": "stderr",
     "output_type": "stream",
     "text": [
      " 75%|███████▌  | 1501/2000 [11:21<04:12,  1.98it/s]"
     ]
    },
    {
     "name": "stdout",
     "output_type": "stream",
     "text": [
      "Episode 1500, Average Score: 173.52\n"
     ]
    },
    {
     "name": "stderr",
     "output_type": "stream",
     "text": [
      " 80%|████████  | 1601/2000 [12:08<03:37,  1.83it/s]"
     ]
    },
    {
     "name": "stdout",
     "output_type": "stream",
     "text": [
      "Episode 1600, Average Score: 191.59\n"
     ]
    },
    {
     "name": "stderr",
     "output_type": "stream",
     "text": [
      " 85%|████████▌ | 1701/2000 [12:54<02:14,  2.22it/s]"
     ]
    },
    {
     "name": "stdout",
     "output_type": "stream",
     "text": [
      "Episode 1700, Average Score: 194.50\n"
     ]
    },
    {
     "name": "stderr",
     "output_type": "stream",
     "text": [
      " 90%|█████████ | 1801/2000 [13:41<01:38,  2.01it/s]"
     ]
    },
    {
     "name": "stdout",
     "output_type": "stream",
     "text": [
      "Episode 1800, Average Score: 178.96\n"
     ]
    },
    {
     "name": "stderr",
     "output_type": "stream",
     "text": [
      " 95%|█████████▌| 1901/2000 [14:30<00:49,  2.02it/s]"
     ]
    },
    {
     "name": "stdout",
     "output_type": "stream",
     "text": [
      "Episode 1900, Average Score: 188.34\n"
     ]
    },
    {
     "name": "stderr",
     "output_type": "stream",
     "text": [
      "100%|██████████| 2000/2000 [15:11<00:00,  2.20it/s]\n"
     ]
    },
    {
     "name": "stdout",
     "output_type": "stream",
     "text": [
      "Training RBF Network...\n"
     ]
    },
    {
     "name": "stderr",
     "output_type": "stream",
     "text": [
      "  0%|          | 6/2000 [00:00<01:00, 32.93it/s]"
     ]
    },
    {
     "name": "stdout",
     "output_type": "stream",
     "text": [
      "Episode 0, Average Score: 22.00\n"
     ]
    },
    {
     "name": "stderr",
     "output_type": "stream",
     "text": [
      "  5%|▌         | 102/2000 [00:12<04:07,  7.67it/s]"
     ]
    },
    {
     "name": "stdout",
     "output_type": "stream",
     "text": [
      "Episode 100, Average Score: 25.73\n"
     ]
    },
    {
     "name": "stderr",
     "output_type": "stream",
     "text": [
      " 10%|█         | 201/2000 [00:44<26:13,  1.14it/s]"
     ]
    },
    {
     "name": "stdout",
     "output_type": "stream",
     "text": [
      "Episode 200, Average Score: 73.01\n"
     ]
    },
    {
     "name": "stderr",
     "output_type": "stream",
     "text": [
      " 15%|█▌        | 301/2000 [02:13<24:41,  1.15it/s]"
     ]
    },
    {
     "name": "stdout",
     "output_type": "stream",
     "text": [
      "Episode 300, Average Score: 196.33\n"
     ]
    },
    {
     "name": "stderr",
     "output_type": "stream",
     "text": [
      " 20%|██        | 401/2000 [03:33<17:27,  1.53it/s]"
     ]
    },
    {
     "name": "stdout",
     "output_type": "stream",
     "text": [
      "Episode 400, Average Score: 172.77\n"
     ]
    },
    {
     "name": "stderr",
     "output_type": "stream",
     "text": [
      " 25%|██▌       | 501/2000 [04:21<13:28,  1.85it/s]"
     ]
    },
    {
     "name": "stdout",
     "output_type": "stream",
     "text": [
      "Episode 500, Average Score: 104.71\n"
     ]
    },
    {
     "name": "stderr",
     "output_type": "stream",
     "text": [
      " 30%|███       | 601/2000 [05:35<20:15,  1.15it/s]"
     ]
    },
    {
     "name": "stdout",
     "output_type": "stream",
     "text": [
      "Episode 600, Average Score: 163.40\n"
     ]
    },
    {
     "name": "stderr",
     "output_type": "stream",
     "text": [
      " 35%|███▌      | 701/2000 [07:05<18:21,  1.18it/s]"
     ]
    },
    {
     "name": "stdout",
     "output_type": "stream",
     "text": [
      "Episode 700, Average Score: 193.44\n"
     ]
    },
    {
     "name": "stderr",
     "output_type": "stream",
     "text": [
      " 40%|████      | 801/2000 [08:30<16:54,  1.18it/s]"
     ]
    },
    {
     "name": "stdout",
     "output_type": "stream",
     "text": [
      "Episode 800, Average Score: 187.20\n"
     ]
    },
    {
     "name": "stderr",
     "output_type": "stream",
     "text": [
      " 45%|████▌     | 901/2000 [09:55<14:59,  1.22it/s]"
     ]
    },
    {
     "name": "stdout",
     "output_type": "stream",
     "text": [
      "Episode 900, Average Score: 183.93\n"
     ]
    },
    {
     "name": "stderr",
     "output_type": "stream",
     "text": [
      " 50%|█████     | 1001/2000 [11:21<14:30,  1.15it/s]"
     ]
    },
    {
     "name": "stdout",
     "output_type": "stream",
     "text": [
      "Episode 1000, Average Score: 184.07\n"
     ]
    },
    {
     "name": "stderr",
     "output_type": "stream",
     "text": [
      " 55%|█████▌    | 1101/2000 [12:47<12:55,  1.16it/s]"
     ]
    },
    {
     "name": "stdout",
     "output_type": "stream",
     "text": [
      "Episode 1100, Average Score: 185.02\n"
     ]
    },
    {
     "name": "stderr",
     "output_type": "stream",
     "text": [
      " 60%|██████    | 1201/2000 [14:22<11:26,  1.16it/s]"
     ]
    },
    {
     "name": "stdout",
     "output_type": "stream",
     "text": [
      "Episode 1200, Average Score: 189.40\n"
     ]
    },
    {
     "name": "stderr",
     "output_type": "stream",
     "text": [
      " 65%|██████▌   | 1301/2000 [15:59<11:18,  1.03it/s]"
     ]
    },
    {
     "name": "stdout",
     "output_type": "stream",
     "text": [
      "Episode 1300, Average Score: 195.74\n"
     ]
    },
    {
     "name": "stderr",
     "output_type": "stream",
     "text": [
      " 70%|███████   | 1401/2000 [17:30<08:35,  1.16it/s]"
     ]
    },
    {
     "name": "stdout",
     "output_type": "stream",
     "text": [
      "Episode 1400, Average Score: 185.16\n"
     ]
    },
    {
     "name": "stderr",
     "output_type": "stream",
     "text": [
      " 75%|███████▌  | 1501/2000 [19:02<08:04,  1.03it/s]"
     ]
    },
    {
     "name": "stdout",
     "output_type": "stream",
     "text": [
      "Episode 1500, Average Score: 187.47\n"
     ]
    },
    {
     "name": "stderr",
     "output_type": "stream",
     "text": [
      " 80%|████████  | 1601/2000 [20:35<06:32,  1.02it/s]"
     ]
    },
    {
     "name": "stdout",
     "output_type": "stream",
     "text": [
      "Episode 1600, Average Score: 179.67\n"
     ]
    },
    {
     "name": "stderr",
     "output_type": "stream",
     "text": [
      " 85%|████████▌ | 1701/2000 [22:07<04:33,  1.09it/s]"
     ]
    },
    {
     "name": "stdout",
     "output_type": "stream",
     "text": [
      "Episode 1700, Average Score: 181.49\n"
     ]
    },
    {
     "name": "stderr",
     "output_type": "stream",
     "text": [
      " 90%|█████████ | 1801/2000 [23:45<03:19,  1.00s/it]"
     ]
    },
    {
     "name": "stdout",
     "output_type": "stream",
     "text": [
      "Episode 1800, Average Score: 197.62\n"
     ]
    },
    {
     "name": "stderr",
     "output_type": "stream",
     "text": [
      " 95%|█████████▌| 1901/2000 [25:11<01:11,  1.38it/s]"
     ]
    },
    {
     "name": "stdout",
     "output_type": "stream",
     "text": [
      "Episode 1900, Average Score: 185.04\n"
     ]
    },
    {
     "name": "stderr",
     "output_type": "stream",
     "text": [
      "100%|██████████| 2000/2000 [26:33<00:00,  1.26it/s]"
     ]
    },
    {
     "name": "stdout",
     "output_type": "stream",
     "text": [
      "\n",
      "Final Performance Statistics:\n",
      "MLP Final Average Score: 169.21 ± 0.00\n",
      "RBF Final Average Score: 196.91 ± 0.00\n"
     ]
    },
    {
     "name": "stderr",
     "output_type": "stream",
     "text": [
      "\n"
     ]
    },
    {
     "data": {
      "image/png": "[encoded data removed]",
      "text/plain": [
       "<Figure size 1500x1000 with 1 Axes>"
      ]
     },
     "metadata": {},
     "output_type": "display_data"
    }
   ],
   "source": [
    "import gymnasium as gym\n",
    "import math\n",
    "import random\n",
    "import matplotlib.pyplot as plt\n",
    "import torch\n",
    "import torch.nn as nn\n",
    "import torch.nn.functional as F\n",
    "import torch.optim as optim\n",
    "\n",
    "import numpy as np\n",
    "from tqdm import tqdm\n",
    "\n",
    "device = torch.device(\"cuda\" if torch.cuda.is_available() else \"cpu\")\n",
    "# device = 'cpu'\n",
    "\n",
    "print(device)\n",
    "\n",
    "from sklearn.kernel_approximation import RBFSampler\n",
    "\n",
    "X = np.array([[0, 1, 1]])\n",
    "\n",
    "# print(X.shape)\n",
    "\n",
    "rbf_feature = RBFSampler(gamma=1, random_state=1, n_components=100)\n",
    "X_features = rbf_feature.fit_transform(X)\n",
    "\n",
    "# print(X_features)\n",
    "\n",
    "class Net(nn.Module):\n",
    "    def __init__(self, input_size, hidden_size, output_size, device):\n",
    "        super().__init__()\n",
    "        self.linear1 = nn.Linear(input_size, hidden_size)\n",
    "        self.linear2 = nn.Linear(hidden_size, output_size)\n",
    "        self.device = device\n",
    "    def forward(self, x):\n",
    "        x = F.relu(self.linear1(x))\n",
    "        x = self.linear2(x)\n",
    "        return x\n",
    "    def init(self):\n",
    "        for layer in self.modules():\n",
    "            if isinstance(layer, nn.Linear):\n",
    "                nn.init.xavier_uniform_(layer.weight)\n",
    "#                 nn.init.zeros_(layer.weight)\n",
    "\n",
    "\n",
    "class RBFNet(nn.Module):\n",
    "    def __init__(self, input_size, output_size, device):\n",
    "        super().__init__()\n",
    "        self.n_components = 500\n",
    "        self.linear = nn.Linear(self.n_components, output_size)\n",
    "        self.rbf_feature = RBFSampler(gamma=1, random_state=1, n_components=self.n_components)\n",
    "        self.device = device\n",
    "        \n",
    "    def forward(self, x):\n",
    "        # Convert to numpy and ensure 2D\n",
    "        if x.dim() == 1:\n",
    "            x = x.unsqueeze(0)  # Add batch dimension if single sample\n",
    "        x_np = x.cpu().numpy()\n",
    "        \n",
    "        # Transform features\n",
    "        feature_np = self.rbf_feature.fit_transform(x_np)\n",
    "        feature = torch.tensor(feature_np, dtype=torch.float).to(self.device)\n",
    "        output = self.linear(feature)\n",
    "        \n",
    "        # If input was single sample, squeeze output\n",
    "        if x_np.shape[0] == 1:\n",
    "            output = output.squeeze(0)\n",
    "            \n",
    "        return output\n",
    "        \n",
    "    def init(self):\n",
    "        for layer in self.modules():\n",
    "            if isinstance(layer, nn.Linear):\n",
    "                nn.init.xavier_uniform_(layer.weight)\n",
    "#                 nn.init.zeros_(layer.weight)\n",
    "\n",
    "class DQN_Agent(object):\n",
    "    def __init__(self, **kwargs):\n",
    "        self.gamma = kwargs['gamma']\n",
    "        self.epsi_high = kwargs['epsi_high'] \n",
    "        self.epsi_low = kwargs['epsi_low']\n",
    "        self.decay = kwargs['decay']\n",
    "        self.lr = kwargs['lr']\n",
    "        self.buffer = []  # Replay buffer\n",
    "        self.capacity = kwargs['capacity']\n",
    "        self.batch_size = kwargs['batch_size']\n",
    "        self.state_space_dim = kwargs['state_space_dim']\n",
    "        self.action_space_dim = kwargs['action_space_dim']\n",
    "        self.device = kwargs['device']\n",
    "        self.network_type = kwargs['network_type']  # 'mlp' or 'rbf'\n",
    "\n",
    "        # Initialize networks based on type\n",
    "        if self.network_type == 'mlp':\n",
    "            self.q_net = Net(self.state_space_dim, 256, self.action_space_dim, self.device).to(self.device)\n",
    "            self.target_net = Net(self.state_space_dim, 256, self.action_space_dim, self.device).to(self.device)\n",
    "        else:  # rbf\n",
    "            self.q_net = RBFNet(self.state_space_dim, self.action_space_dim, self.device).to(self.device)\n",
    "            self.target_net = RBFNet(self.state_space_dim, self.action_space_dim, self.device).to(self.device)\n",
    "        \n",
    "        self.target_net.load_state_dict(self.q_net.state_dict())\n",
    "        self.optimizer = optim.Adam(self.q_net.parameters(), lr=self.lr)\n",
    "        self.steps = 0\n",
    "        self.update_target_steps = 100\n",
    "\n",
    "    def act(self, s0):\n",
    "        self.steps += 1\n",
    "        epsi = self.epsi_low + (self.epsi_high-self.epsi_low) * (math.exp(-1.0 * self.steps/self.decay))\n",
    "        if random.random() < epsi:\n",
    "            return random.randrange(self.action_space_dim)\n",
    "        else:\n",
    "            with torch.no_grad():\n",
    "                s0 = s0[0] if isinstance(s0, tuple) else s0\n",
    "                state = torch.tensor(s0, dtype=torch.float).to(self.device)\n",
    "                q_values = self.q_net(state)\n",
    "                return torch.argmax(q_values).item()\n",
    "\n",
    "    def put(self, *transition):\n",
    "        if len(self.buffer) == self.capacity:\n",
    "            self.buffer.pop(0)\n",
    "        self.buffer.append(transition)\n",
    "\n",
    "    def learn(self):\n",
    "        if len(self.buffer) < self.batch_size:\n",
    "            return\n",
    "        \n",
    "        # Sample random batch from replay buffer\n",
    "        samples = random.sample(self.buffer, self.batch_size)\n",
    "        s0, a0, r1, s1, done = zip(*samples)\n",
    "        # s0 = s0[0] if isinstance(s0, tuple) else s0\n",
    "        # Convert to tensors\n",
    "        s0 = [s[0] if isinstance(s, tuple) else s for s in s0]\n",
    "        s1 = [s[0] if isinstance(s, tuple) else s for s in s1]\n",
    "        s0 = torch.tensor(s0, dtype=torch.float).to(self.device)\n",
    "        a0 = torch.tensor(a0, dtype=torch.long).view(self.batch_size, -1).to(self.device)\n",
    "        r1 = torch.tensor(r1, dtype=torch.float).view(self.batch_size, -1).to(self.device)\n",
    "        s1 = torch.tensor(s1, dtype=torch.float).to(self.device)\n",
    "        done = torch.tensor(done, dtype=torch.float).view(self.batch_size, -1).to(self.device)\n",
    "\n",
    "        # Compute target Q values\n",
    "        with torch.no_grad():\n",
    "            next_q_values = self.target_net(s1)\n",
    "            a = torch.max(next_q_values)\n",
    "            max_next_q = torch.max(next_q_values, dim=1)[0].view(self.batch_size, -1)\n",
    "            target_q = r1 + (1 - done) * self.gamma * max_next_q\n",
    "\n",
    "        # Compute current Q values\n",
    "        current_q = self.q_net(s0).gather(1, a0)\n",
    "\n",
    "        # Compute loss and update\n",
    "        loss = F.mse_loss(current_q, target_q)\n",
    "        self.optimizer.zero_grad()\n",
    "        loss.backward()\n",
    "        self.optimizer.step()\n",
    "\n",
    "        # Update target network periodically\n",
    "        if self.steps % self.update_target_steps == 0:\n",
    "            self.target_net.load_state_dict(self.q_net.state_dict())\n",
    "\n",
    "# Main training loop\n",
    "def train_dqn(env, agent, num_episodes):\n",
    "    scores = []\n",
    "    mean_scores = []\n",
    "    \n",
    "    for episode in tqdm(range(num_episodes)):\n",
    "        state = env.reset()\n",
    "        total_reward = 0\n",
    "        done = False\n",
    "        \n",
    "        while not done:\n",
    "            action = agent.act(state)\n",
    "            next_state, reward, terminated, truncated,  _ = env.step(action)\n",
    "            done = terminated or truncated\n",
    "            # Store transition in replay buffer\n",
    "            agent.put(state, action, reward, next_state, done)\n",
    "            \n",
    "            # Train the network\n",
    "            agent.learn()\n",
    "            \n",
    "            total_reward += reward\n",
    "            state = next_state\n",
    "            \n",
    "        scores.append(total_reward)\n",
    "        mean_scores.append(np.mean(scores[-100:]))  # Moving average of last 100 episodes\n",
    "        \n",
    "        if episode % 100 == 0:\n",
    "            print(f'Episode {episode}, Average Score: {mean_scores[-1]:.2f}')\n",
    "    \n",
    "    return scores, mean_scores\n",
    "\n",
    "def compare_networks(env, num_episodes=500, num_runs=5):\n",
    "    params = {\n",
    "        'gamma': 0.99,\n",
    "        'epsi_high': 0.9,\n",
    "        'epsi_low': 0.05,\n",
    "        'decay': 200,\n",
    "        'lr': 0.001,\n",
    "        'capacity': 10000,\n",
    "        'batch_size': 64,\n",
    "        'state_space_dim': env.observation_space.shape[0],\n",
    "        'action_space_dim': env.action_space.n,\n",
    "        'device': device\n",
    "    }\n",
    "    \n",
    "    mlp_results = []\n",
    "    rbf_results = []\n",
    "    \n",
    "    # Run multiple times for statistical significance\n",
    "    for run in range(num_runs):\n",
    "        print(f\"\\nRun {run + 1}/{num_runs}\")\n",
    "        \n",
    "        # Train MLP\n",
    "        print(\"Training MLP Network...\")\n",
    "        params['network_type'] = 'mlp'\n",
    "        mlp_agent = DQN_Agent(**params)\n",
    "        mlp_scores, mlp_means = train_dqn(env, mlp_agent, num_episodes)\n",
    "        mlp_results.append(mlp_means)\n",
    "        \n",
    "        # Train RBF\n",
    "        print(\"Training RBF Network...\")\n",
    "        params['network_type'] = 'rbf'\n",
    "        rbf_agent = DQN_Agent(**params)\n",
    "        rbf_scores, rbf_means = train_dqn(env, rbf_agent, num_episodes)\n",
    "        rbf_results.append(rbf_means)\n",
    "    \n",
    "    # Plot results\n",
    "    plt.figure(figsize=(15,10))\n",
    "    \n",
    "    # Plot MLP results\n",
    "    mlp_mean = np.mean(mlp_results, axis=0)\n",
    "    mlp_std = np.std(mlp_results, axis=0)\n",
    "    plt.plot(mlp_mean, label='MLP Mean', color='blue')\n",
    "    plt.fill_between(range(len(mlp_mean)), \n",
    "                    mlp_mean - mlp_std, \n",
    "                    mlp_mean + mlp_std, \n",
    "                    alpha=0.2, \n",
    "                    color='blue')\n",
    "    \n",
    "    # Plot RBF results\n",
    "    rbf_mean = np.mean(rbf_results, axis=0)\n",
    "    rbf_std = np.std(rbf_results, axis=0)\n",
    "    plt.plot(rbf_mean, label='RBF Mean', color='red')\n",
    "    plt.fill_between(range(len(rbf_mean)), \n",
    "                    rbf_mean - rbf_std, \n",
    "                    rbf_mean + rbf_std, \n",
    "                    alpha=0.2, \n",
    "                    color='red')\n",
    "    \n",
    "    plt.xlabel('Episode')\n",
    "    plt.ylabel('Average Score')\n",
    "    plt.title('MLP vs RBF Network Performance Comparison')\n",
    "    plt.legend()\n",
    "    \n",
    "    # Print final statistics\n",
    "    print(\"\\nFinal Performance Statistics:\")\n",
    "    print(f\"MLP Final Average Score: {mlp_mean[-1]:.2f} ± {mlp_std[-1]:.2f}\")\n",
    "    print(f\"RBF Final Average Score: {rbf_mean[-1]:.2f} ± {rbf_std[-1]:.2f}\")\n",
    "    \n",
    "    plt.show()\n",
    "    return rbf_agent\n",
    "# Run comparison\n",
    "env = gym.make('CartPole-v0')\n",
    "rbf_agent = compare_networks(env, num_episodes=2000, num_runs=1)"
   ]
  },
  {
   "cell_type": "code",
   "execution_count": null,
   "metadata": {},
   "outputs": [
    {
     "name": "stdout",
     "output_type": "stream",
     "text": [
      "test the performance for policy:\n"
     ]
    },
    {
     "ename": "NameError",
     "evalue": "name 'env' is not defined",
     "output_type": "error",
     "traceback": [
      "\u001b[1;31m---------------------------------------------------------------------------\u001b[0m",
      "\u001b[1;31mNameError\u001b[0m                                 Traceback (most recent call last)",
      "Cell \u001b[1;32mIn[1], line 5\u001b[0m\n\u001b[0;32m      2\u001b[0m \u001b[38;5;28mprint\u001b[39m(\u001b[38;5;124m\"\u001b[39m\u001b[38;5;124mtest the performance for policy:\u001b[39m\u001b[38;5;124m\"\u001b[39m)\n\u001b[0;32m      4\u001b[0m \u001b[38;5;28;01mfor\u001b[39;00m i_episode \u001b[38;5;129;01min\u001b[39;00m \u001b[38;5;28mrange\u001b[39m(num_episodes):\n\u001b[1;32m----> 5\u001b[0m     state, _ \u001b[38;5;241m=\u001b[39m \u001b[43menv\u001b[49m\u001b[38;5;241m.\u001b[39mreset()\n\u001b[0;32m      6\u001b[0m     \u001b[38;5;28;01mfor\u001b[39;00m t \u001b[38;5;129;01min\u001b[39;00m \u001b[38;5;28mrange\u001b[39m(\u001b[38;5;241m1\u001b[39m, \u001b[38;5;241m10000\u001b[39m):\n\u001b[0;32m      7\u001b[0m         action \u001b[38;5;241m=\u001b[39m rbf_agent\u001b[38;5;241m.\u001b[39mact(state)\n",
      "\u001b[1;31mNameError\u001b[0m: name 'env' is not defined"
     ]
    }
   ],
   "source": [
    "num_episodes = 10\n",
    "print(\"test the performance for policy:\")\n",
    "\n",
    "for i_episode in range(num_episodes):\n",
    "    state, _ = env.reset()\n",
    "    for t in range(1, 10000):\n",
    "        action = rbf_agent.act(state)\n",
    "        state, reward, terminated, truncated, _ = env.step(action)\n",
    "        if terminated or truncated:\n",
    "            print(f\"Linear policy: Episode {i_episode + 1} finished after {t} timesteps\")\n",
    "            break"
   ]
  },
  {
   "cell_type": "markdown",
   "metadata": {},
   "source": [
    "The thing is, when I directly change network in DQN code into linear function (in the first DQN codebase), the performance is bad. \n",
    "\n",
    "But in the method above (second codebase), linear with RFFs seems very good compared with DQN. In the second code DQN and RBF use the same algorithm.\n",
    "\n",
    "When I tried to do policy evaluation work, I would like to borrow most of the code from policy optimization codebase, only change some of the training process. To be more specific, I change Bellman optimal equation into Bellman consistency equation to do policy evaluation work. The results are bad. I don't know why and don't know what to do next. I have tried tuning some of the hyperparameters but it didn't work out."
   ]
  }
 ],
 "metadata": {
  "kernelspec": {
   "display_name": "policy-eval",
   "language": "python",
   "name": "python3"
  },
  "language_info": {
   "codemirror_mode": {
    "name": "ipython",
    "version": 3
   },
   "file_extension": ".py",
   "mimetype": "text/x-python",
   "name": "python",
   "nbconvert_exporter": "python",
   "pygments_lexer": "ipython3",
   "version": "3.12.7"
  }
 },
 "nbformat": 4,
 "nbformat_minor": 2
}
